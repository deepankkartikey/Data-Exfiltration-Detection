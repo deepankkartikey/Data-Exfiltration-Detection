{
 "cells": [
  {
   "cell_type": "markdown",
   "id": "119ae30c",
   "metadata": {},
   "source": [
    "### 1. Imports"
   ]
  },
  {
   "cell_type": "code",
   "execution_count": 78,
   "id": "af3b89c7",
   "metadata": {},
   "outputs": [],
   "source": [
    "import pickle\n",
    "import time\n",
    "\n",
    "import pandas as pd\n",
    "import numpy as np\n",
    "import seaborn as sns\n",
    "import matplotlib.pyplot as plt\n",
    "%matplotlib inline\n",
    "\n",
    "#data preprocessing\n",
    "from sklearn.model_selection import train_test_split\n",
    "from sklearn.preprocessing import MinMaxScaler\n",
    "\n",
    "# ML algorithms\n",
    "from sklearn.linear_model import LogisticRegression\n",
    "from sklearn.ensemble import RandomForestClassifier\n",
    "import xgboost as xgb\n",
    "from xgboost import XGBClassifier\n",
    "from xgboost import plot_importance\n",
    "\n",
    "#cross validation\n",
    "from sklearn.model_selection import GridSearchCV\n",
    "from sklearn.model_selection import RandomizedSearchCV\n",
    "from sklearn.model_selection import StratifiedKFold\n",
    "\n",
    "# evaluation metrics\n",
    "from sklearn.metrics import roc_curve, roc_auc_score, accuracy_score\n",
    "from sklearn.metrics import precision_score\n",
    "from sklearn.metrics import recall_score\n",
    "from sklearn.metrics import f1_score, classification_report\n",
    "\n",
    "import warnings\n",
    "warnings.filterwarnings('ignore')"
   ]
  },
  {
   "cell_type": "markdown",
   "id": "d1c081cc",
   "metadata": {},
   "source": [
    "### 2. Reading Data"
   ]
  },
  {
   "cell_type": "code",
   "execution_count": 79,
   "id": "4de52310",
   "metadata": {},
   "outputs": [],
   "source": [
    "df_s = pd.read_csv('static_dataset.csv')"
   ]
  },
  {
   "cell_type": "code",
   "execution_count": 80,
   "id": "a192ae6e",
   "metadata": {},
   "outputs": [
    {
     "data": {
      "text/plain": [
       "(268074, 16)"
      ]
     },
     "execution_count": 80,
     "metadata": {},
     "output_type": "execute_result"
    }
   ],
   "source": [
    "df_s.shape"
   ]
  },
  {
   "cell_type": "code",
   "execution_count": 81,
   "id": "73b55a6b",
   "metadata": {},
   "outputs": [
    {
     "data": {
      "text/html": [
       "<div>\n",
       "<style scoped>\n",
       "    .dataframe tbody tr th:only-of-type {\n",
       "        vertical-align: middle;\n",
       "    }\n",
       "\n",
       "    .dataframe tbody tr th {\n",
       "        vertical-align: top;\n",
       "    }\n",
       "\n",
       "    .dataframe thead th {\n",
       "        text-align: right;\n",
       "    }\n",
       "</style>\n",
       "<table border=\"1\" class=\"dataframe\">\n",
       "  <thead>\n",
       "    <tr style=\"text-align: right;\">\n",
       "      <th></th>\n",
       "      <th>timestamp</th>\n",
       "      <th>FQDN_count</th>\n",
       "      <th>subdomain_length</th>\n",
       "      <th>upper</th>\n",
       "      <th>lower</th>\n",
       "      <th>numeric</th>\n",
       "      <th>entropy</th>\n",
       "      <th>special</th>\n",
       "      <th>labels</th>\n",
       "      <th>labels_max</th>\n",
       "      <th>labels_average</th>\n",
       "      <th>longest_word</th>\n",
       "      <th>sld</th>\n",
       "      <th>len</th>\n",
       "      <th>subdomain</th>\n",
       "      <th>Target Attack</th>\n",
       "    </tr>\n",
       "  </thead>\n",
       "  <tbody>\n",
       "    <tr>\n",
       "      <th>0</th>\n",
       "      <td>56:19.8</td>\n",
       "      <td>27</td>\n",
       "      <td>10</td>\n",
       "      <td>0</td>\n",
       "      <td>10</td>\n",
       "      <td>11</td>\n",
       "      <td>2.570417</td>\n",
       "      <td>6</td>\n",
       "      <td>6</td>\n",
       "      <td>7</td>\n",
       "      <td>3.666667</td>\n",
       "      <td>2</td>\n",
       "      <td>192</td>\n",
       "      <td>14</td>\n",
       "      <td>1</td>\n",
       "      <td>1</td>\n",
       "    </tr>\n",
       "    <tr>\n",
       "      <th>1</th>\n",
       "      <td>07:23.9</td>\n",
       "      <td>27</td>\n",
       "      <td>10</td>\n",
       "      <td>0</td>\n",
       "      <td>10</td>\n",
       "      <td>11</td>\n",
       "      <td>2.767195</td>\n",
       "      <td>6</td>\n",
       "      <td>6</td>\n",
       "      <td>7</td>\n",
       "      <td>3.666667</td>\n",
       "      <td>2</td>\n",
       "      <td>192</td>\n",
       "      <td>14</td>\n",
       "      <td>1</td>\n",
       "      <td>1</td>\n",
       "    </tr>\n",
       "    <tr>\n",
       "      <th>2</th>\n",
       "      <td>23:15.1</td>\n",
       "      <td>26</td>\n",
       "      <td>9</td>\n",
       "      <td>0</td>\n",
       "      <td>10</td>\n",
       "      <td>10</td>\n",
       "      <td>2.742338</td>\n",
       "      <td>6</td>\n",
       "      <td>6</td>\n",
       "      <td>7</td>\n",
       "      <td>3.500000</td>\n",
       "      <td>2</td>\n",
       "      <td>192</td>\n",
       "      <td>13</td>\n",
       "      <td>1</td>\n",
       "      <td>0</td>\n",
       "    </tr>\n",
       "    <tr>\n",
       "      <th>3</th>\n",
       "      <td>04:51.9</td>\n",
       "      <td>27</td>\n",
       "      <td>10</td>\n",
       "      <td>0</td>\n",
       "      <td>10</td>\n",
       "      <td>11</td>\n",
       "      <td>2.570417</td>\n",
       "      <td>6</td>\n",
       "      <td>6</td>\n",
       "      <td>7</td>\n",
       "      <td>3.666667</td>\n",
       "      <td>2</td>\n",
       "      <td>192</td>\n",
       "      <td>14</td>\n",
       "      <td>1</td>\n",
       "      <td>1</td>\n",
       "    </tr>\n",
       "    <tr>\n",
       "      <th>4</th>\n",
       "      <td>12:44.0</td>\n",
       "      <td>15</td>\n",
       "      <td>9</td>\n",
       "      <td>0</td>\n",
       "      <td>11</td>\n",
       "      <td>0</td>\n",
       "      <td>2.929439</td>\n",
       "      <td>4</td>\n",
       "      <td>3</td>\n",
       "      <td>5</td>\n",
       "      <td>4.333333</td>\n",
       "      <td>local</td>\n",
       "      <td>local</td>\n",
       "      <td>15</td>\n",
       "      <td>1</td>\n",
       "      <td>1</td>\n",
       "    </tr>\n",
       "  </tbody>\n",
       "</table>\n",
       "</div>"
      ],
      "text/plain": [
       "  timestamp  FQDN_count  subdomain_length  upper  lower  numeric   entropy  \\\n",
       "0   56:19.8          27                10      0     10       11  2.570417   \n",
       "1   07:23.9          27                10      0     10       11  2.767195   \n",
       "2   23:15.1          26                 9      0     10       10  2.742338   \n",
       "3   04:51.9          27                10      0     10       11  2.570417   \n",
       "4   12:44.0          15                 9      0     11        0  2.929439   \n",
       "\n",
       "   special  labels  labels_max  labels_average longest_word    sld  len  \\\n",
       "0        6       6           7        3.666667            2    192   14   \n",
       "1        6       6           7        3.666667            2    192   14   \n",
       "2        6       6           7        3.500000            2    192   13   \n",
       "3        6       6           7        3.666667            2    192   14   \n",
       "4        4       3           5        4.333333        local  local   15   \n",
       "\n",
       "   subdomain  Target Attack  \n",
       "0          1              1  \n",
       "1          1              1  \n",
       "2          1              0  \n",
       "3          1              1  \n",
       "4          1              1  "
      ]
     },
     "execution_count": 81,
     "metadata": {},
     "output_type": "execute_result"
    }
   ],
   "source": [
    "df_s.head()"
   ]
  },
  {
   "cell_type": "code",
   "execution_count": 82,
   "id": "416730da",
   "metadata": {},
   "outputs": [
    {
     "data": {
      "text/html": [
       "<div>\n",
       "<style scoped>\n",
       "    .dataframe tbody tr th:only-of-type {\n",
       "        vertical-align: middle;\n",
       "    }\n",
       "\n",
       "    .dataframe tbody tr th {\n",
       "        vertical-align: top;\n",
       "    }\n",
       "\n",
       "    .dataframe thead th {\n",
       "        text-align: right;\n",
       "    }\n",
       "</style>\n",
       "<table border=\"1\" class=\"dataframe\">\n",
       "  <thead>\n",
       "    <tr style=\"text-align: right;\">\n",
       "      <th></th>\n",
       "      <th>timestamp</th>\n",
       "      <th>FQDN_count</th>\n",
       "      <th>subdomain_length</th>\n",
       "      <th>upper</th>\n",
       "      <th>lower</th>\n",
       "      <th>numeric</th>\n",
       "      <th>entropy</th>\n",
       "      <th>special</th>\n",
       "      <th>labels</th>\n",
       "      <th>labels_max</th>\n",
       "      <th>labels_average</th>\n",
       "      <th>longest_word</th>\n",
       "      <th>sld</th>\n",
       "      <th>len</th>\n",
       "      <th>subdomain</th>\n",
       "      <th>Target Attack</th>\n",
       "    </tr>\n",
       "  </thead>\n",
       "  <tbody>\n",
       "    <tr>\n",
       "      <th>2</th>\n",
       "      <td>23:15.1</td>\n",
       "      <td>26</td>\n",
       "      <td>9</td>\n",
       "      <td>0</td>\n",
       "      <td>10</td>\n",
       "      <td>10</td>\n",
       "      <td>2.742338</td>\n",
       "      <td>6</td>\n",
       "      <td>6</td>\n",
       "      <td>7</td>\n",
       "      <td>3.500000</td>\n",
       "      <td>2</td>\n",
       "      <td>192</td>\n",
       "      <td>13</td>\n",
       "      <td>1</td>\n",
       "      <td>0</td>\n",
       "    </tr>\n",
       "    <tr>\n",
       "      <th>6</th>\n",
       "      <td>26:58.3</td>\n",
       "      <td>23</td>\n",
       "      <td>3</td>\n",
       "      <td>0</td>\n",
       "      <td>20</td>\n",
       "      <td>0</td>\n",
       "      <td>3.568087</td>\n",
       "      <td>3</td>\n",
       "      <td>3</td>\n",
       "      <td>16</td>\n",
       "      <td>7.000000</td>\n",
       "      <td>pforzheim</td>\n",
       "      <td>pforzheim-bisons</td>\n",
       "      <td>20</td>\n",
       "      <td>1</td>\n",
       "      <td>0</td>\n",
       "    </tr>\n",
       "    <tr>\n",
       "      <th>8</th>\n",
       "      <td>27:59.6</td>\n",
       "      <td>14</td>\n",
       "      <td>3</td>\n",
       "      <td>0</td>\n",
       "      <td>12</td>\n",
       "      <td>0</td>\n",
       "      <td>2.514247</td>\n",
       "      <td>2</td>\n",
       "      <td>3</td>\n",
       "      <td>6</td>\n",
       "      <td>4.000000</td>\n",
       "      <td>face</td>\n",
       "      <td>reface</td>\n",
       "      <td>10</td>\n",
       "      <td>1</td>\n",
       "      <td>0</td>\n",
       "    </tr>\n",
       "    <tr>\n",
       "      <th>9</th>\n",
       "      <td>21:27.9</td>\n",
       "      <td>18</td>\n",
       "      <td>0</td>\n",
       "      <td>0</td>\n",
       "      <td>17</td>\n",
       "      <td>0</td>\n",
       "      <td>2.879113</td>\n",
       "      <td>1</td>\n",
       "      <td>2</td>\n",
       "      <td>14</td>\n",
       "      <td>8.500000</td>\n",
       "      <td>store</td>\n",
       "      <td>dellogliostore</td>\n",
       "      <td>15</td>\n",
       "      <td>0</td>\n",
       "      <td>0</td>\n",
       "    </tr>\n",
       "    <tr>\n",
       "      <th>10</th>\n",
       "      <td>09:54.6</td>\n",
       "      <td>24</td>\n",
       "      <td>7</td>\n",
       "      <td>0</td>\n",
       "      <td>10</td>\n",
       "      <td>8</td>\n",
       "      <td>2.054029</td>\n",
       "      <td>6</td>\n",
       "      <td>6</td>\n",
       "      <td>7</td>\n",
       "      <td>3.166667</td>\n",
       "      <td>4</td>\n",
       "      <td>224</td>\n",
       "      <td>11</td>\n",
       "      <td>1</td>\n",
       "      <td>0</td>\n",
       "    </tr>\n",
       "  </tbody>\n",
       "</table>\n",
       "</div>"
      ],
      "text/plain": [
       "   timestamp  FQDN_count  subdomain_length  upper  lower  numeric   entropy  \\\n",
       "2    23:15.1          26                 9      0     10       10  2.742338   \n",
       "6    26:58.3          23                 3      0     20        0  3.568087   \n",
       "8    27:59.6          14                 3      0     12        0  2.514247   \n",
       "9    21:27.9          18                 0      0     17        0  2.879113   \n",
       "10   09:54.6          24                 7      0     10        8  2.054029   \n",
       "\n",
       "    special  labels  labels_max  labels_average longest_word  \\\n",
       "2         6       6           7        3.500000            2   \n",
       "6         3       3          16        7.000000    pforzheim   \n",
       "8         2       3           6        4.000000         face   \n",
       "9         1       2          14        8.500000        store   \n",
       "10        6       6           7        3.166667            4   \n",
       "\n",
       "                 sld  len  subdomain  Target Attack  \n",
       "2                192   13          1              0  \n",
       "6   pforzheim-bisons   20          1              0  \n",
       "8             reface   10          1              0  \n",
       "9     dellogliostore   15          0              0  \n",
       "10               224   11          1              0  "
      ]
     },
     "execution_count": 82,
     "metadata": {},
     "output_type": "execute_result"
    }
   ],
   "source": [
    "df_s[df_s['Target Attack'] == 0].head()"
   ]
  },
  {
   "cell_type": "code",
   "execution_count": 83,
   "id": "98afd261",
   "metadata": {},
   "outputs": [
    {
     "data": {
      "text/html": [
       "<div>\n",
       "<style scoped>\n",
       "    .dataframe tbody tr th:only-of-type {\n",
       "        vertical-align: middle;\n",
       "    }\n",
       "\n",
       "    .dataframe tbody tr th {\n",
       "        vertical-align: top;\n",
       "    }\n",
       "\n",
       "    .dataframe thead th {\n",
       "        text-align: right;\n",
       "    }\n",
       "</style>\n",
       "<table border=\"1\" class=\"dataframe\">\n",
       "  <thead>\n",
       "    <tr style=\"text-align: right;\">\n",
       "      <th></th>\n",
       "      <th>timestamp</th>\n",
       "      <th>FQDN_count</th>\n",
       "      <th>subdomain_length</th>\n",
       "      <th>upper</th>\n",
       "      <th>lower</th>\n",
       "      <th>numeric</th>\n",
       "      <th>entropy</th>\n",
       "      <th>special</th>\n",
       "      <th>labels</th>\n",
       "      <th>labels_max</th>\n",
       "      <th>labels_average</th>\n",
       "      <th>longest_word</th>\n",
       "      <th>sld</th>\n",
       "      <th>len</th>\n",
       "      <th>subdomain</th>\n",
       "      <th>Target Attack</th>\n",
       "    </tr>\n",
       "  </thead>\n",
       "  <tbody>\n",
       "    <tr>\n",
       "      <th>0</th>\n",
       "      <td>56:19.8</td>\n",
       "      <td>27</td>\n",
       "      <td>10</td>\n",
       "      <td>0</td>\n",
       "      <td>10</td>\n",
       "      <td>11</td>\n",
       "      <td>2.570417</td>\n",
       "      <td>6</td>\n",
       "      <td>6</td>\n",
       "      <td>7</td>\n",
       "      <td>3.666667</td>\n",
       "      <td>2</td>\n",
       "      <td>192</td>\n",
       "      <td>14</td>\n",
       "      <td>1</td>\n",
       "      <td>1</td>\n",
       "    </tr>\n",
       "    <tr>\n",
       "      <th>1</th>\n",
       "      <td>07:23.9</td>\n",
       "      <td>27</td>\n",
       "      <td>10</td>\n",
       "      <td>0</td>\n",
       "      <td>10</td>\n",
       "      <td>11</td>\n",
       "      <td>2.767195</td>\n",
       "      <td>6</td>\n",
       "      <td>6</td>\n",
       "      <td>7</td>\n",
       "      <td>3.666667</td>\n",
       "      <td>2</td>\n",
       "      <td>192</td>\n",
       "      <td>14</td>\n",
       "      <td>1</td>\n",
       "      <td>1</td>\n",
       "    </tr>\n",
       "    <tr>\n",
       "      <th>3</th>\n",
       "      <td>04:51.9</td>\n",
       "      <td>27</td>\n",
       "      <td>10</td>\n",
       "      <td>0</td>\n",
       "      <td>10</td>\n",
       "      <td>11</td>\n",
       "      <td>2.570417</td>\n",
       "      <td>6</td>\n",
       "      <td>6</td>\n",
       "      <td>7</td>\n",
       "      <td>3.666667</td>\n",
       "      <td>2</td>\n",
       "      <td>192</td>\n",
       "      <td>14</td>\n",
       "      <td>1</td>\n",
       "      <td>1</td>\n",
       "    </tr>\n",
       "    <tr>\n",
       "      <th>4</th>\n",
       "      <td>12:44.0</td>\n",
       "      <td>15</td>\n",
       "      <td>9</td>\n",
       "      <td>0</td>\n",
       "      <td>11</td>\n",
       "      <td>0</td>\n",
       "      <td>2.929439</td>\n",
       "      <td>4</td>\n",
       "      <td>3</td>\n",
       "      <td>5</td>\n",
       "      <td>4.333333</td>\n",
       "      <td>local</td>\n",
       "      <td>local</td>\n",
       "      <td>15</td>\n",
       "      <td>1</td>\n",
       "      <td>1</td>\n",
       "    </tr>\n",
       "    <tr>\n",
       "      <th>5</th>\n",
       "      <td>16:29.5</td>\n",
       "      <td>27</td>\n",
       "      <td>10</td>\n",
       "      <td>0</td>\n",
       "      <td>10</td>\n",
       "      <td>11</td>\n",
       "      <td>2.570417</td>\n",
       "      <td>6</td>\n",
       "      <td>6</td>\n",
       "      <td>7</td>\n",
       "      <td>3.666667</td>\n",
       "      <td>2</td>\n",
       "      <td>192</td>\n",
       "      <td>14</td>\n",
       "      <td>1</td>\n",
       "      <td>1</td>\n",
       "    </tr>\n",
       "  </tbody>\n",
       "</table>\n",
       "</div>"
      ],
      "text/plain": [
       "  timestamp  FQDN_count  subdomain_length  upper  lower  numeric   entropy  \\\n",
       "0   56:19.8          27                10      0     10       11  2.570417   \n",
       "1   07:23.9          27                10      0     10       11  2.767195   \n",
       "3   04:51.9          27                10      0     10       11  2.570417   \n",
       "4   12:44.0          15                 9      0     11        0  2.929439   \n",
       "5   16:29.5          27                10      0     10       11  2.570417   \n",
       "\n",
       "   special  labels  labels_max  labels_average longest_word    sld  len  \\\n",
       "0        6       6           7        3.666667            2    192   14   \n",
       "1        6       6           7        3.666667            2    192   14   \n",
       "3        6       6           7        3.666667            2    192   14   \n",
       "4        4       3           5        4.333333        local  local   15   \n",
       "5        6       6           7        3.666667            2    192   14   \n",
       "\n",
       "   subdomain  Target Attack  \n",
       "0          1              1  \n",
       "1          1              1  \n",
       "3          1              1  \n",
       "4          1              1  \n",
       "5          1              1  "
      ]
     },
     "execution_count": 83,
     "metadata": {},
     "output_type": "execute_result"
    }
   ],
   "source": [
    "df_s[df_s['Target Attack'] == 1].head()"
   ]
  },
  {
   "cell_type": "markdown",
   "id": "79935d16",
   "metadata": {},
   "source": [
    "### 3. Exploratory Data analysis"
   ]
  },
  {
   "cell_type": "code",
   "execution_count": 84,
   "id": "47596dd1",
   "metadata": {},
   "outputs": [
    {
     "name": "stdout",
     "output_type": "stream",
     "text": [
      "No. of rows in static data =  268074 \n",
      " No. of columns in static data =  16\n"
     ]
    }
   ],
   "source": [
    "print('No. of rows in static data = ', df_s.shape[0],'\\n', 'No. of columns in static data = ', df_s.shape[1])"
   ]
  },
  {
   "cell_type": "code",
   "execution_count": 85,
   "id": "666f0298",
   "metadata": {},
   "outputs": [
    {
     "name": "stdout",
     "output_type": "stream",
     "text": [
      "<class 'pandas.core.frame.DataFrame'>\n",
      "RangeIndex: 268074 entries, 0 to 268073\n",
      "Data columns (total 16 columns):\n",
      " #   Column            Non-Null Count   Dtype  \n",
      "---  ------            --------------   -----  \n",
      " 0   timestamp         268074 non-null  object \n",
      " 1   FQDN_count        268074 non-null  int64  \n",
      " 2   subdomain_length  268074 non-null  int64  \n",
      " 3   upper             268074 non-null  int64  \n",
      " 4   lower             268074 non-null  int64  \n",
      " 5   numeric           268074 non-null  int64  \n",
      " 6   entropy           268074 non-null  float64\n",
      " 7   special           268074 non-null  int64  \n",
      " 8   labels            268074 non-null  int64  \n",
      " 9   labels_max        268074 non-null  int64  \n",
      " 10  labels_average    268074 non-null  float64\n",
      " 11  longest_word      268066 non-null  object \n",
      " 12  sld               268074 non-null  object \n",
      " 13  len               268074 non-null  int64  \n",
      " 14  subdomain         268074 non-null  int64  \n",
      " 15  Target Attack     268074 non-null  int64  \n",
      "dtypes: float64(2), int64(11), object(3)\n",
      "memory usage: 32.7+ MB\n"
     ]
    }
   ],
   "source": [
    "df_s.info()"
   ]
  },
  {
   "cell_type": "code",
   "execution_count": 86,
   "id": "de62f1ed",
   "metadata": {},
   "outputs": [
    {
     "name": "stdout",
     "output_type": "stream",
     "text": [
      "49:26.7    46\n",
      "49:27.5    43\n",
      "49:27.1    42\n",
      "49:27.4    39\n",
      "49:26.9    35\n",
      "           ..\n",
      "50:34.9     1\n",
      "55:49.7     1\n",
      "55:37.6     1\n",
      "42:13.2     1\n",
      "28:01.6     1\n",
      "Name: timestamp, Length: 35924, dtype: int64\n",
      "24    70912\n",
      "27    64479\n",
      "25    23614\n",
      "26    22065\n",
      "15     8775\n",
      "13     7084\n",
      "14     6976\n",
      "16     6675\n",
      "11     6627\n",
      "12     6511\n",
      "32     6377\n",
      "10     5709\n",
      "17     4712\n",
      "18     3952\n",
      "9      3885\n",
      "19     3221\n",
      "28     2729\n",
      "8      2455\n",
      "20     2178\n",
      "21     2150\n",
      "22     1433\n",
      "7      1419\n",
      "6      1235\n",
      "23     1087\n",
      "2      1008\n",
      "29      238\n",
      "5       143\n",
      "31      130\n",
      "34       93\n",
      "4        76\n",
      "30       53\n",
      "33       46\n",
      "36       14\n",
      "35       13\n",
      "Name: FQDN_count, dtype: int64\n",
      "7     70251\n",
      "0     66081\n",
      "10    65472\n",
      "8     23266\n",
      "9     22125\n",
      "3     17039\n",
      "11     2616\n",
      "15      319\n",
      "4       166\n",
      "2       155\n",
      "5       119\n",
      "6        99\n",
      "17       98\n",
      "20       72\n",
      "12       69\n",
      "13       33\n",
      "14       22\n",
      "16       20\n",
      "18       18\n",
      "1        17\n",
      "22        8\n",
      "21        4\n",
      "19        3\n",
      "23        2\n",
      "Name: subdomain_length, dtype: int64\n",
      "0     258759\n",
      "32      6345\n",
      "11      1961\n",
      "2       1008\n",
      "8          1\n",
      "Name: upper, dtype: int64\n",
      "10    189281\n",
      "0       9314\n",
      "12      8797\n",
      "11      7419\n",
      "13      7043\n",
      "14      6446\n",
      "9       6380\n",
      "15      4974\n",
      "8       4458\n",
      "16      4346\n",
      "17      3272\n",
      "7       3221\n",
      "18      2615\n",
      "6       1983\n",
      "19      1971\n",
      "20      1518\n",
      "5       1133\n",
      "21      1130\n",
      "22       698\n",
      "23       565\n",
      "4        366\n",
      "24       303\n",
      "25       187\n",
      "27       181\n",
      "26       141\n",
      "30       101\n",
      "3         58\n",
      "28        51\n",
      "2         48\n",
      "29        35\n",
      "31        21\n",
      "32        12\n",
      "34         4\n",
      "33         2\n",
      "Name: lower, dtype: int64\n",
      "0     79373\n",
      "8     70192\n",
      "11    64292\n",
      "9     23205\n",
      "10    21794\n",
      "3      2611\n",
      "12     2588\n",
      "1      2025\n",
      "2      1384\n",
      "4       490\n",
      "5        74\n",
      "6        33\n",
      "7        13\n",
      "Name: numeric, dtype: int64\n",
      "2.054029    70202\n",
      "2.570417    39561\n",
      "2.767195    23674\n",
      "2.742338    22474\n",
      "2.556642    15660\n",
      "            ...  \n",
      "3.673500        1\n",
      "3.531941        1\n",
      "4.165036        1\n",
      "2.807898        1\n",
      "3.511455        1\n",
      "Name: entropy, Length: 630, dtype: int64\n",
      "6    182053\n",
      "1     44066\n",
      "2     26780\n",
      "0      7621\n",
      "3      5112\n",
      "4      2172\n",
      "5       262\n",
      "7         8\n",
      "Name: special, dtype: int64\n",
      "6    182035\n",
      "2     49983\n",
      "3     24029\n",
      "1      9582\n",
      "4      2323\n",
      "5       116\n",
      "7         6\n",
      "Name: labels, dtype: int64\n",
      "7     190116\n",
      "9       7750\n",
      "8       7708\n",
      "6       7185\n",
      "10      7182\n",
      "5       6585\n",
      "32      6357\n",
      "11      5984\n",
      "12      5193\n",
      "15      4110\n",
      "4       3728\n",
      "13      3566\n",
      "3       3254\n",
      "14      2941\n",
      "16      1729\n",
      "2       1163\n",
      "17      1113\n",
      "18       833\n",
      "19       535\n",
      "20       468\n",
      "21       179\n",
      "22       126\n",
      "23        67\n",
      "25        62\n",
      "24        58\n",
      "26        29\n",
      "27        21\n",
      "30        13\n",
      "29         9\n",
      "28         6\n",
      "31         4\n",
      "Name: labels_max, dtype: int64\n",
      "3.166667     70188\n",
      "3.666667     66185\n",
      "3.333333     24695\n",
      "3.500000     24492\n",
      "5.000000      7574\n",
      "             ...  \n",
      "16.500000        4\n",
      "15.500000        4\n",
      "4.200000         4\n",
      "3.600000         3\n",
      "3.714286         2\n",
      "Name: labels_average, Length: 73, dtype: int64\n",
      "2          109981\n",
      "4           70188\n",
      "N            4498\n",
      "C            2969\n",
      "9            1906\n",
      "            ...  \n",
      "onenote         1\n",
      "yaa             1\n",
      "mal             1\n",
      "kit             1\n",
      "queue           1\n",
      "Name: longest_word, Length: 6225, dtype: int64\n",
      "192                                 109517\n",
      "224                                  70188\n",
      "FHEPFCELEHFCEPFFFACACACACACACABN      4498\n",
      "DESKTOP-3JF04TC                       1961\n",
      "239                                   1906\n",
      "                                     ...  \n",
      "secureserver                             1\n",
      "cicresearch                              1\n",
      "boomstream                               1\n",
      "bukkit                                   1\n",
      "lahemal                                  1\n",
      "Name: sld, Length: 11112, dtype: int64\n",
      "11    77272\n",
      "14    68690\n",
      "12    29609\n",
      "13    27388\n",
      "10     7528\n",
      "9      7010\n",
      "8      6965\n",
      "15     6471\n",
      "33     6357\n",
      "7      6162\n",
      "16     5900\n",
      "6      3971\n",
      "5      2912\n",
      "4      2400\n",
      "17     2135\n",
      "18     1677\n",
      "3      1351\n",
      "19     1238\n",
      "21      849\n",
      "20      841\n",
      "22      325\n",
      "23      239\n",
      "25      199\n",
      "24      158\n",
      "27      125\n",
      "30      102\n",
      "26       99\n",
      "28       41\n",
      "29       28\n",
      "31       22\n",
      "32        8\n",
      "2         2\n",
      "Name: len, dtype: int64\n",
      "1    201993\n",
      "0     66081\n",
      "Name: subdomain, dtype: int64\n",
      "1    147179\n",
      "0    120895\n",
      "Name: Target Attack, dtype: int64\n"
     ]
    }
   ],
   "source": [
    "# unique value count for static data\n",
    "\n",
    "for i in df_s.columns:\n",
    "    print(df_s[i].value_counts(dropna= False))\n",
    "    "
   ]
  },
  {
   "cell_type": "code",
   "execution_count": 87,
   "id": "2ade1297",
   "metadata": {},
   "outputs": [
    {
     "name": "stdout",
     "output_type": "stream",
     "text": [
      "timestamp  :  35924\n",
      "FQDN_count  :  34\n",
      "subdomain_length  :  24\n",
      "upper  :  5\n",
      "lower  :  34\n",
      "numeric  :  13\n",
      "entropy  :  630\n",
      "special  :  8\n",
      "labels  :  7\n",
      "labels_max  :  31\n",
      "labels_average  :  73\n",
      "longest_word  :  6225\n",
      "sld  :  11112\n",
      "len  :  32\n",
      "subdomain  :  2\n"
     ]
    }
   ],
   "source": [
    "# get number of unique values in each feature\n",
    "cat = []\n",
    "\n",
    "for col in df_s.columns[:-1]:\n",
    "    print(col, \" : \" ,len(df_s[col].unique()))\n",
    "    if len(df_s[col].unique()) < 10:\n",
    "        cat.append(col)\n"
   ]
  },
  {
   "cell_type": "code",
   "execution_count": 88,
   "id": "abf4ed45",
   "metadata": {},
   "outputs": [
    {
     "data": {
      "text/plain": [
       "['upper', 'special', 'labels', 'subdomain']"
      ]
     },
     "execution_count": 88,
     "metadata": {},
     "output_type": "execute_result"
    }
   ],
   "source": [
    "# considering variables with less than 10 unique groups as categorical variables\n",
    "# upper, special, labels, subdomain\n",
    "cat"
   ]
  },
  {
   "cell_type": "code",
   "execution_count": 89,
   "id": "c183aa78",
   "metadata": {},
   "outputs": [
    {
     "name": "stdout",
     "output_type": "stream",
     "text": [
      "unique categories in  upper  :  [ 0 32 11  2  8]\n",
      "unique categories in  special  :  [6 4 3 2 1 0 5 7]\n",
      "unique categories in  labels  :  [6 3 2 1 4 5 7]\n",
      "unique categories in  subdomain  :  [1 0]\n"
     ]
    }
   ],
   "source": [
    "for col in cat:\n",
    "    print('unique categories in ', col, ' : ', df_s[col].unique())"
   ]
  },
  {
   "cell_type": "code",
   "execution_count": 90,
   "id": "f9490fd6",
   "metadata": {},
   "outputs": [
    {
     "name": "stdout",
     "output_type": "stream",
     "text": [
      "longest_word\n"
     ]
    }
   ],
   "source": [
    "#finding columns with Null\n",
    "for i in df_s.columns:\n",
    "    k = df_s[i].isnull().sum()\n",
    "    if(k>0):\n",
    "        print(i)"
   ]
  },
  {
   "cell_type": "markdown",
   "id": "3be12865",
   "metadata": {},
   "source": [
    "### Observations:"
   ]
  },
  {
   "cell_type": "markdown",
   "id": "57bd99f3",
   "metadata": {},
   "source": [
    "### 1. Original nature of variables may be hidden due to confidentiality\n",
    "### 2. From the about unique category counts it can be concluded that upper, special, labels, \n",
    "### subdomain can be categorical variables encoded as integers\n",
    "### 3. The column longest_word has some missing values"
   ]
  },
  {
   "cell_type": "markdown",
   "id": "3e9c2147",
   "metadata": {},
   "source": [
    "### checking for data imbalance"
   ]
  },
  {
   "cell_type": "code",
   "execution_count": 91,
   "id": "4e0d3431",
   "metadata": {},
   "outputs": [
    {
     "data": {
      "text/html": [
       "<div>\n",
       "<style scoped>\n",
       "    .dataframe tbody tr th:only-of-type {\n",
       "        vertical-align: middle;\n",
       "    }\n",
       "\n",
       "    .dataframe tbody tr th {\n",
       "        vertical-align: top;\n",
       "    }\n",
       "\n",
       "    .dataframe thead th {\n",
       "        text-align: right;\n",
       "    }\n",
       "</style>\n",
       "<table border=\"1\" class=\"dataframe\">\n",
       "  <thead>\n",
       "    <tr style=\"text-align: right;\">\n",
       "      <th></th>\n",
       "      <th>Target Attack</th>\n",
       "    </tr>\n",
       "  </thead>\n",
       "  <tbody>\n",
       "    <tr>\n",
       "      <th>1</th>\n",
       "      <td>147179</td>\n",
       "    </tr>\n",
       "    <tr>\n",
       "      <th>0</th>\n",
       "      <td>120895</td>\n",
       "    </tr>\n",
       "  </tbody>\n",
       "</table>\n",
       "</div>"
      ],
      "text/plain": [
       "   Target Attack\n",
       "1         147179\n",
       "0         120895"
      ]
     },
     "execution_count": 91,
     "metadata": {},
     "output_type": "execute_result"
    }
   ],
   "source": [
    "#Checking Data Imbalance // Uniques value counts in 'Target Attack' // \n",
    "\n",
    "uv = pd.DataFrame(df_s['Target Attack'].value_counts(dropna =False))\n",
    "uv  # 1 - Attack\n",
    "    # 0 - Not an Attack"
   ]
  },
  {
   "cell_type": "code",
   "execution_count": 92,
   "id": "b38a2e5f",
   "metadata": {},
   "outputs": [],
   "source": [
    "# Function to print height of barcharts on the bars\n",
    "\n",
    "def barh(ax):\n",
    "    \n",
    "    for p in ax.patches:\n",
    "        val = p.get_height() #height of the bar\n",
    "        x = p.get_x()+ p.get_width()/2 # x- position \n",
    "        y = p.get_y() + p.get_height() + 500 #y-position\n",
    "        ax.annotate(round(val,2),(x,y))"
   ]
  },
  {
   "cell_type": "code",
   "execution_count": 93,
   "id": "92022ce9",
   "metadata": {},
   "outputs": [
    {
     "data": {
      "image/png": "[encoded data removed]",
      "text/plain": [
       "<Figure size 1080x504 with 2 Axes>"
      ]
     },
     "metadata": {
      "needs_background": "light"
     },
     "output_type": "display_data"
    }
   ],
   "source": [
    "# Ploting imbalance in dataframe \n",
    "\n",
    "plt.figure(figsize = (15,7))\n",
    "\n",
    "cols = ['r','b']\n",
    "\n",
    "plt.subplot(1,2,1)\n",
    "ax0 = sns.countplot(x = 'Target Attack',data = df_s)\n",
    "barh(ax0)\n",
    "plt.title('Data Imbalance in counts')\n",
    "\n",
    "plt.subplot(1,2,2)\n",
    "labels = ['Attack','Not an Attack' ]\n",
    "\n",
    "plt.pie(uv['Target Attack'], labels=labels, autopct='%1.1f%%',explode = (0,1),colors = cols)\n",
    "plt.title('Data Imbalance in Percentages (%)')\n",
    "\n",
    "\n",
    "plt.show()"
   ]
  },
  {
   "cell_type": "markdown",
   "id": "a2501321",
   "metadata": {},
   "source": [
    "### 3.1 Searching for Outliers"
   ]
  },
  {
   "cell_type": "code",
   "execution_count": 94,
   "id": "04488b3f",
   "metadata": {},
   "outputs": [
    {
     "data": {
      "text/plain": [
       "Index(['timestamp', 'FQDN_count', 'subdomain_length', 'upper', 'lower',\n",
       "       'numeric', 'entropy', 'special', 'labels', 'labels_max',\n",
       "       'labels_average', 'longest_word', 'sld', 'len', 'subdomain'],\n",
       "      dtype='object')"
      ]
     },
     "execution_count": 94,
     "metadata": {},
     "output_type": "execute_result"
    }
   ],
   "source": [
    "cols = df_s.columns[:-1]\n",
    "cols"
   ]
  },
  {
   "cell_type": "code",
   "execution_count": 95,
   "id": "8c95e6c5",
   "metadata": {},
   "outputs": [
    {
     "data": {
      "text/plain": [
       "['FQDN_count',\n",
       " 'subdomain_length',\n",
       " 'upper',\n",
       " 'lower',\n",
       " 'numeric',\n",
       " 'entropy',\n",
       " 'special',\n",
       " 'labels',\n",
       " 'labels_max',\n",
       " 'labels_average',\n",
       " 'len',\n",
       " 'subdomain']"
      ]
     },
     "execution_count": 95,
     "metadata": {},
     "output_type": "execute_result"
    }
   ],
   "source": [
    "# Only obtain numerical columns\n",
    "\n",
    "num_cols = [col for col in cols if df_s[col].dtype !='O']\n",
    "num_cols"
   ]
  },
  {
   "cell_type": "code",
   "execution_count": 96,
   "id": "2b74c92b",
   "metadata": {},
   "outputs": [
    {
     "data": {
      "image/png": "[encoded data removed]",
      "text/plain": [
       "<Figure size 1080x360 with 1 Axes>"
      ]
     },
     "metadata": {
      "needs_background": "light"
     },
     "output_type": "display_data"
    },
    {
     "data": {
      "image/png": "[encoded data removed]",
      "text/plain": [
       "<Figure size 1080x360 with 1 Axes>"
      ]
     },
     "metadata": {
      "needs_background": "light"
     },
     "output_type": "display_data"
    },
    {
     "data": {
      "image/png": "[encoded data removed]",
      "text/plain": [
       "<Figure size 1080x360 with 1 Axes>"
      ]
     },
     "metadata": {
      "needs_background": "light"
     },
     "output_type": "display_data"
    },
    {
     "data": {
      "image/png": "[encoded data removed]",
      "text/plain": [
       "<Figure size 1080x360 with 1 Axes>"
      ]
     },
     "metadata": {
      "needs_background": "light"
     },
     "output_type": "display_data"
    },
    {
     "data": {
      "image/png": "[encoded data removed]",
      "text/plain": [
       "<Figure size 1080x360 with 1 Axes>"
      ]
     },
     "metadata": {
      "needs_background": "light"
     },
     "output_type": "display_data"
    },
    {
     "data": {
      "image/png": "[encoded data removed]",
      "text/plain": [
       "<Figure size 1080x360 with 1 Axes>"
      ]
     },
     "metadata": {
      "needs_background": "light"
     },
     "output_type": "display_data"
    },
    {
     "data": {
      "image/png": "[encoded data removed]",
      "text/plain": [
       "<Figure size 1080x360 with 1 Axes>"
      ]
     },
     "metadata": {
      "needs_background": "light"
     },
     "output_type": "display_data"
    },
    {
     "data": {
      "image/png": "[encoded data removed]",
      "text/plain": [
       "<Figure size 1080x360 with 1 Axes>"
      ]
     },
     "metadata": {
      "needs_background": "light"
     },
     "output_type": "display_data"
    },
    {
     "data": {
      "image/png": "[encoded data removed]",
      "text/plain": [
       "<Figure size 1080x360 with 1 Axes>"
      ]
     },
     "metadata": {
      "needs_background": "light"
     },
     "output_type": "display_data"
    },
    {
     "data": {
      "image/png": "[encoded data removed]",
      "text/plain": [
       "<Figure size 1080x360 with 1 Axes>"
      ]
     },
     "metadata": {
      "needs_background": "light"
     },
     "output_type": "display_data"
    },
    {
     "data": {
      "image/png": "[encoded data removed]",
      "text/plain": [
       "<Figure size 1080x360 with 1 Axes>"
      ]
     },
     "metadata": {
      "needs_background": "light"
     },
     "output_type": "display_data"
    },
    {
     "data": {
      "image/png": "[encoded data removed]",
      "text/plain": [
       "<Figure size 1080x360 with 1 Axes>"
      ]
     },
     "metadata": {
      "needs_background": "light"
     },
     "output_type": "display_data"
    }
   ],
   "source": [
    "# Plotting boxplots to see the distribution of each variable with 'Target Attack'\n",
    "\n",
    "for col in num_cols:\n",
    "    plt.figure(figsize=(15,5))\n",
    "    sns.boxplot(x='Target Attack', y=col, data=df_s)\n",
    "    plt.show()"
   ]
  },
  {
   "cell_type": "markdown",
   "id": "b9e60d20",
   "metadata": {},
   "source": [
    "## outliers are present in almost all numerical features"
   ]
  },
  {
   "cell_type": "code",
   "execution_count": 97,
   "id": "400c1060",
   "metadata": {},
   "outputs": [
    {
     "data": {
      "text/html": [
       "<div>\n",
       "<style scoped>\n",
       "    .dataframe tbody tr th:only-of-type {\n",
       "        vertical-align: middle;\n",
       "    }\n",
       "\n",
       "    .dataframe tbody tr th {\n",
       "        vertical-align: top;\n",
       "    }\n",
       "\n",
       "    .dataframe thead th {\n",
       "        text-align: right;\n",
       "    }\n",
       "</style>\n",
       "<table border=\"1\" class=\"dataframe\">\n",
       "  <thead>\n",
       "    <tr style=\"text-align: right;\">\n",
       "      <th></th>\n",
       "      <th>FQDN_count</th>\n",
       "      <th>subdomain_length</th>\n",
       "      <th>upper</th>\n",
       "      <th>lower</th>\n",
       "      <th>numeric</th>\n",
       "      <th>entropy</th>\n",
       "      <th>special</th>\n",
       "      <th>labels</th>\n",
       "      <th>labels_max</th>\n",
       "      <th>labels_average</th>\n",
       "      <th>len</th>\n",
       "      <th>subdomain</th>\n",
       "      <th>Target Attack</th>\n",
       "    </tr>\n",
       "  </thead>\n",
       "  <tbody>\n",
       "    <tr>\n",
       "      <th>count</th>\n",
       "      <td>268074.000000</td>\n",
       "      <td>268074.000000</td>\n",
       "      <td>268074.000000</td>\n",
       "      <td>268074.000000</td>\n",
       "      <td>268074.000000</td>\n",
       "      <td>268074.000000</td>\n",
       "      <td>268074.000000</td>\n",
       "      <td>268074.000000</td>\n",
       "      <td>268074.000000</td>\n",
       "      <td>268074.000000</td>\n",
       "      <td>268074.000000</td>\n",
       "      <td>268074.000000</td>\n",
       "      <td>268074.000000</td>\n",
       "    </tr>\n",
       "    <tr>\n",
       "      <th>mean</th>\n",
       "      <td>22.286596</td>\n",
       "      <td>6.059021</td>\n",
       "      <td>0.845420</td>\n",
       "      <td>10.410014</td>\n",
       "      <td>6.497586</td>\n",
       "      <td>2.485735</td>\n",
       "      <td>4.533577</td>\n",
       "      <td>4.788823</td>\n",
       "      <td>8.252233</td>\n",
       "      <td>4.802239</td>\n",
       "      <td>12.576714</td>\n",
       "      <td>0.753497</td>\n",
       "      <td>0.549024</td>\n",
       "    </tr>\n",
       "    <tr>\n",
       "      <th>std</th>\n",
       "      <td>6.001205</td>\n",
       "      <td>3.899505</td>\n",
       "      <td>4.941929</td>\n",
       "      <td>3.207725</td>\n",
       "      <td>4.499866</td>\n",
       "      <td>0.407709</td>\n",
       "      <td>2.187683</td>\n",
       "      <td>1.803256</td>\n",
       "      <td>4.415355</td>\n",
       "      <td>4.573066</td>\n",
       "      <td>4.177828</td>\n",
       "      <td>0.430975</td>\n",
       "      <td>0.497592</td>\n",
       "    </tr>\n",
       "    <tr>\n",
       "      <th>min</th>\n",
       "      <td>2.000000</td>\n",
       "      <td>0.000000</td>\n",
       "      <td>0.000000</td>\n",
       "      <td>0.000000</td>\n",
       "      <td>0.000000</td>\n",
       "      <td>0.219195</td>\n",
       "      <td>0.000000</td>\n",
       "      <td>1.000000</td>\n",
       "      <td>2.000000</td>\n",
       "      <td>2.000000</td>\n",
       "      <td>2.000000</td>\n",
       "      <td>0.000000</td>\n",
       "      <td>0.000000</td>\n",
       "    </tr>\n",
       "    <tr>\n",
       "      <th>5%</th>\n",
       "      <td>10.000000</td>\n",
       "      <td>0.000000</td>\n",
       "      <td>0.000000</td>\n",
       "      <td>7.000000</td>\n",
       "      <td>0.000000</td>\n",
       "      <td>2.054029</td>\n",
       "      <td>1.000000</td>\n",
       "      <td>2.000000</td>\n",
       "      <td>5.000000</td>\n",
       "      <td>3.166667</td>\n",
       "      <td>7.000000</td>\n",
       "      <td>0.000000</td>\n",
       "      <td>0.000000</td>\n",
       "    </tr>\n",
       "    <tr>\n",
       "      <th>25%</th>\n",
       "      <td>18.000000</td>\n",
       "      <td>3.000000</td>\n",
       "      <td>0.000000</td>\n",
       "      <td>10.000000</td>\n",
       "      <td>0.000000</td>\n",
       "      <td>2.054029</td>\n",
       "      <td>2.000000</td>\n",
       "      <td>3.000000</td>\n",
       "      <td>7.000000</td>\n",
       "      <td>3.166667</td>\n",
       "      <td>11.000000</td>\n",
       "      <td>1.000000</td>\n",
       "      <td>0.000000</td>\n",
       "    </tr>\n",
       "    <tr>\n",
       "      <th>50%</th>\n",
       "      <td>24.000000</td>\n",
       "      <td>7.000000</td>\n",
       "      <td>0.000000</td>\n",
       "      <td>10.000000</td>\n",
       "      <td>8.000000</td>\n",
       "      <td>2.570417</td>\n",
       "      <td>6.000000</td>\n",
       "      <td>6.000000</td>\n",
       "      <td>7.000000</td>\n",
       "      <td>3.666667</td>\n",
       "      <td>12.000000</td>\n",
       "      <td>1.000000</td>\n",
       "      <td>1.000000</td>\n",
       "    </tr>\n",
       "    <tr>\n",
       "      <th>75%</th>\n",
       "      <td>27.000000</td>\n",
       "      <td>10.000000</td>\n",
       "      <td>0.000000</td>\n",
       "      <td>10.000000</td>\n",
       "      <td>10.000000</td>\n",
       "      <td>2.767195</td>\n",
       "      <td>6.000000</td>\n",
       "      <td>6.000000</td>\n",
       "      <td>7.000000</td>\n",
       "      <td>4.000000</td>\n",
       "      <td>14.000000</td>\n",
       "      <td>1.000000</td>\n",
       "      <td>1.000000</td>\n",
       "    </tr>\n",
       "    <tr>\n",
       "      <th>80%</th>\n",
       "      <td>27.000000</td>\n",
       "      <td>10.000000</td>\n",
       "      <td>0.000000</td>\n",
       "      <td>10.000000</td>\n",
       "      <td>11.000000</td>\n",
       "      <td>2.767195</td>\n",
       "      <td>6.000000</td>\n",
       "      <td>6.000000</td>\n",
       "      <td>8.000000</td>\n",
       "      <td>5.000000</td>\n",
       "      <td>14.000000</td>\n",
       "      <td>1.000000</td>\n",
       "      <td>1.000000</td>\n",
       "    </tr>\n",
       "    <tr>\n",
       "      <th>85%</th>\n",
       "      <td>27.000000</td>\n",
       "      <td>10.000000</td>\n",
       "      <td>0.000000</td>\n",
       "      <td>12.000000</td>\n",
       "      <td>11.000000</td>\n",
       "      <td>2.786216</td>\n",
       "      <td>6.000000</td>\n",
       "      <td>6.000000</td>\n",
       "      <td>10.000000</td>\n",
       "      <td>5.666667</td>\n",
       "      <td>14.000000</td>\n",
       "      <td>1.000000</td>\n",
       "      <td>1.000000</td>\n",
       "    </tr>\n",
       "    <tr>\n",
       "      <th>95%</th>\n",
       "      <td>27.000000</td>\n",
       "      <td>10.000000</td>\n",
       "      <td>0.000000</td>\n",
       "      <td>16.000000</td>\n",
       "      <td>11.000000</td>\n",
       "      <td>3.108098</td>\n",
       "      <td>6.000000</td>\n",
       "      <td>6.000000</td>\n",
       "      <td>15.000000</td>\n",
       "      <td>9.000000</td>\n",
       "      <td>17.000000</td>\n",
       "      <td>1.000000</td>\n",
       "      <td>1.000000</td>\n",
       "    </tr>\n",
       "    <tr>\n",
       "      <th>99%</th>\n",
       "      <td>32.000000</td>\n",
       "      <td>11.000000</td>\n",
       "      <td>32.000000</td>\n",
       "      <td>21.000000</td>\n",
       "      <td>11.000000</td>\n",
       "      <td>3.625000</td>\n",
       "      <td>6.000000</td>\n",
       "      <td>6.000000</td>\n",
       "      <td>32.000000</td>\n",
       "      <td>32.000000</td>\n",
       "      <td>33.000000</td>\n",
       "      <td>1.000000</td>\n",
       "      <td>1.000000</td>\n",
       "    </tr>\n",
       "    <tr>\n",
       "      <th>99.5%</th>\n",
       "      <td>32.000000</td>\n",
       "      <td>11.000000</td>\n",
       "      <td>32.000000</td>\n",
       "      <td>23.000000</td>\n",
       "      <td>12.000000</td>\n",
       "      <td>3.625000</td>\n",
       "      <td>6.000000</td>\n",
       "      <td>6.000000</td>\n",
       "      <td>32.000000</td>\n",
       "      <td>32.000000</td>\n",
       "      <td>33.000000</td>\n",
       "      <td>1.000000</td>\n",
       "      <td>1.000000</td>\n",
       "    </tr>\n",
       "    <tr>\n",
       "      <th>max</th>\n",
       "      <td>36.000000</td>\n",
       "      <td>23.000000</td>\n",
       "      <td>32.000000</td>\n",
       "      <td>34.000000</td>\n",
       "      <td>12.000000</td>\n",
       "      <td>4.216847</td>\n",
       "      <td>7.000000</td>\n",
       "      <td>7.000000</td>\n",
       "      <td>32.000000</td>\n",
       "      <td>32.000000</td>\n",
       "      <td>33.000000</td>\n",
       "      <td>1.000000</td>\n",
       "      <td>1.000000</td>\n",
       "    </tr>\n",
       "  </tbody>\n",
       "</table>\n",
       "</div>"
      ],
      "text/plain": [
       "          FQDN_count  subdomain_length          upper          lower  \\\n",
       "count  268074.000000     268074.000000  268074.000000  268074.000000   \n",
       "mean       22.286596          6.059021       0.845420      10.410014   \n",
       "std         6.001205          3.899505       4.941929       3.207725   \n",
       "min         2.000000          0.000000       0.000000       0.000000   \n",
       "5%         10.000000          0.000000       0.000000       7.000000   \n",
       "25%        18.000000          3.000000       0.000000      10.000000   \n",
       "50%        24.000000          7.000000       0.000000      10.000000   \n",
       "75%        27.000000         10.000000       0.000000      10.000000   \n",
       "80%        27.000000         10.000000       0.000000      10.000000   \n",
       "85%        27.000000         10.000000       0.000000      12.000000   \n",
       "95%        27.000000         10.000000       0.000000      16.000000   \n",
       "99%        32.000000         11.000000      32.000000      21.000000   \n",
       "99.5%      32.000000         11.000000      32.000000      23.000000   \n",
       "max        36.000000         23.000000      32.000000      34.000000   \n",
       "\n",
       "             numeric        entropy        special         labels  \\\n",
       "count  268074.000000  268074.000000  268074.000000  268074.000000   \n",
       "mean        6.497586       2.485735       4.533577       4.788823   \n",
       "std         4.499866       0.407709       2.187683       1.803256   \n",
       "min         0.000000       0.219195       0.000000       1.000000   \n",
       "5%          0.000000       2.054029       1.000000       2.000000   \n",
       "25%         0.000000       2.054029       2.000000       3.000000   \n",
       "50%         8.000000       2.570417       6.000000       6.000000   \n",
       "75%        10.000000       2.767195       6.000000       6.000000   \n",
       "80%        11.000000       2.767195       6.000000       6.000000   \n",
       "85%        11.000000       2.786216       6.000000       6.000000   \n",
       "95%        11.000000       3.108098       6.000000       6.000000   \n",
       "99%        11.000000       3.625000       6.000000       6.000000   \n",
       "99.5%      12.000000       3.625000       6.000000       6.000000   \n",
       "max        12.000000       4.216847       7.000000       7.000000   \n",
       "\n",
       "          labels_max  labels_average            len      subdomain  \\\n",
       "count  268074.000000   268074.000000  268074.000000  268074.000000   \n",
       "mean        8.252233        4.802239      12.576714       0.753497   \n",
       "std         4.415355        4.573066       4.177828       0.430975   \n",
       "min         2.000000        2.000000       2.000000       0.000000   \n",
       "5%          5.000000        3.166667       7.000000       0.000000   \n",
       "25%         7.000000        3.166667      11.000000       1.000000   \n",
       "50%         7.000000        3.666667      12.000000       1.000000   \n",
       "75%         7.000000        4.000000      14.000000       1.000000   \n",
       "80%         8.000000        5.000000      14.000000       1.000000   \n",
       "85%        10.000000        5.666667      14.000000       1.000000   \n",
       "95%        15.000000        9.000000      17.000000       1.000000   \n",
       "99%        32.000000       32.000000      33.000000       1.000000   \n",
       "99.5%      32.000000       32.000000      33.000000       1.000000   \n",
       "max        32.000000       32.000000      33.000000       1.000000   \n",
       "\n",
       "       Target Attack  \n",
       "count  268074.000000  \n",
       "mean        0.549024  \n",
       "std         0.497592  \n",
       "min         0.000000  \n",
       "5%          0.000000  \n",
       "25%         0.000000  \n",
       "50%         1.000000  \n",
       "75%         1.000000  \n",
       "80%         1.000000  \n",
       "85%         1.000000  \n",
       "95%         1.000000  \n",
       "99%         1.000000  \n",
       "99.5%       1.000000  \n",
       "max         1.000000  "
      ]
     },
     "execution_count": 97,
     "metadata": {},
     "output_type": "execute_result"
    }
   ],
   "source": [
    "# detect outliers using describe and percentiles\n",
    "\n",
    "df_s.describe(percentiles = [0.05, 0.25, 0.5, 0.75, 0.8, 0.85, 0.95, 0.99, 0.995])"
   ]
  },
  {
   "cell_type": "code",
   "execution_count": 98,
   "id": "1e722287",
   "metadata": {},
   "outputs": [],
   "source": [
    "### subdomain_length, lower, entropy possibly have outliers\n",
    "### upper, special, labels, subdomain - assumed to be categorical but encoded as integers"
   ]
  },
  {
   "cell_type": "markdown",
   "id": "88080336",
   "metadata": {},
   "source": [
    "#### Observation :\n",
    "###  FQDN_count, subdomain_length, lower, labels_max, labels_average, len - outliers\n",
    "### Clearly these are outliers. \n",
    "### It is decided to remove rows where values of each column are greater than their respective 95 percentile \n",
    "### (as number of records are available are more).\n",
    "\n"
   ]
  },
  {
   "cell_type": "code",
   "execution_count": 99,
   "id": "ff2def4f",
   "metadata": {},
   "outputs": [
    {
     "data": {
      "text/html": [
       "<div>\n",
       "<style scoped>\n",
       "    .dataframe tbody tr th:only-of-type {\n",
       "        vertical-align: middle;\n",
       "    }\n",
       "\n",
       "    .dataframe tbody tr th {\n",
       "        vertical-align: top;\n",
       "    }\n",
       "\n",
       "    .dataframe thead th {\n",
       "        text-align: right;\n",
       "    }\n",
       "</style>\n",
       "<table border=\"1\" class=\"dataframe\">\n",
       "  <thead>\n",
       "    <tr style=\"text-align: right;\">\n",
       "      <th></th>\n",
       "      <th>FQDN_count</th>\n",
       "      <th>subdomain_length</th>\n",
       "      <th>upper</th>\n",
       "      <th>lower</th>\n",
       "      <th>numeric</th>\n",
       "      <th>entropy</th>\n",
       "      <th>special</th>\n",
       "      <th>labels</th>\n",
       "      <th>labels_max</th>\n",
       "      <th>labels_average</th>\n",
       "      <th>len</th>\n",
       "      <th>subdomain</th>\n",
       "      <th>Target Attack</th>\n",
       "    </tr>\n",
       "  </thead>\n",
       "  <tbody>\n",
       "    <tr>\n",
       "      <th>count</th>\n",
       "      <td>243993.000000</td>\n",
       "      <td>243993.000000</td>\n",
       "      <td>243993.000000</td>\n",
       "      <td>243993.000000</td>\n",
       "      <td>243993.000000</td>\n",
       "      <td>243993.000000</td>\n",
       "      <td>243993.000000</td>\n",
       "      <td>243993.000000</td>\n",
       "      <td>243993.000000</td>\n",
       "      <td>243993.000000</td>\n",
       "      <td>243993.000000</td>\n",
       "      <td>243993.000000</td>\n",
       "      <td>243993.000000</td>\n",
       "    </tr>\n",
       "    <tr>\n",
       "      <th>mean</th>\n",
       "      <td>22.078580</td>\n",
       "      <td>6.426635</td>\n",
       "      <td>0.008263</td>\n",
       "      <td>10.287098</td>\n",
       "      <td>6.977479</td>\n",
       "      <td>2.435204</td>\n",
       "      <td>4.805740</td>\n",
       "      <td>5.024447</td>\n",
       "      <td>7.227752</td>\n",
       "      <td>3.845150</td>\n",
       "      <td>11.705094</td>\n",
       "      <td>0.792564</td>\n",
       "      <td>0.567639</td>\n",
       "    </tr>\n",
       "    <tr>\n",
       "      <th>std</th>\n",
       "      <td>5.978029</td>\n",
       "      <td>3.676351</td>\n",
       "      <td>0.128284</td>\n",
       "      <td>1.691725</td>\n",
       "      <td>4.278127</td>\n",
       "      <td>0.369467</td>\n",
       "      <td>2.027313</td>\n",
       "      <td>1.651158</td>\n",
       "      <td>1.515324</td>\n",
       "      <td>1.082362</td>\n",
       "      <td>2.310500</td>\n",
       "      <td>0.405472</td>\n",
       "      <td>0.495405</td>\n",
       "    </tr>\n",
       "    <tr>\n",
       "      <th>min</th>\n",
       "      <td>2.000000</td>\n",
       "      <td>0.000000</td>\n",
       "      <td>0.000000</td>\n",
       "      <td>0.000000</td>\n",
       "      <td>0.000000</td>\n",
       "      <td>0.219195</td>\n",
       "      <td>0.000000</td>\n",
       "      <td>1.000000</td>\n",
       "      <td>2.000000</td>\n",
       "      <td>2.000000</td>\n",
       "      <td>2.000000</td>\n",
       "      <td>0.000000</td>\n",
       "      <td>0.000000</td>\n",
       "    </tr>\n",
       "    <tr>\n",
       "      <th>5%</th>\n",
       "      <td>10.000000</td>\n",
       "      <td>0.000000</td>\n",
       "      <td>0.000000</td>\n",
       "      <td>8.000000</td>\n",
       "      <td>0.000000</td>\n",
       "      <td>2.054029</td>\n",
       "      <td>1.000000</td>\n",
       "      <td>2.000000</td>\n",
       "      <td>5.000000</td>\n",
       "      <td>3.166667</td>\n",
       "      <td>7.000000</td>\n",
       "      <td>0.000000</td>\n",
       "      <td>0.000000</td>\n",
       "    </tr>\n",
       "    <tr>\n",
       "      <th>25%</th>\n",
       "      <td>17.000000</td>\n",
       "      <td>3.000000</td>\n",
       "      <td>0.000000</td>\n",
       "      <td>10.000000</td>\n",
       "      <td>1.000000</td>\n",
       "      <td>2.054029</td>\n",
       "      <td>3.000000</td>\n",
       "      <td>3.000000</td>\n",
       "      <td>7.000000</td>\n",
       "      <td>3.166667</td>\n",
       "      <td>11.000000</td>\n",
       "      <td>1.000000</td>\n",
       "      <td>0.000000</td>\n",
       "    </tr>\n",
       "    <tr>\n",
       "      <th>50%</th>\n",
       "      <td>24.000000</td>\n",
       "      <td>7.000000</td>\n",
       "      <td>0.000000</td>\n",
       "      <td>10.000000</td>\n",
       "      <td>8.000000</td>\n",
       "      <td>2.570417</td>\n",
       "      <td>6.000000</td>\n",
       "      <td>6.000000</td>\n",
       "      <td>7.000000</td>\n",
       "      <td>3.500000</td>\n",
       "      <td>12.000000</td>\n",
       "      <td>1.000000</td>\n",
       "      <td>1.000000</td>\n",
       "    </tr>\n",
       "    <tr>\n",
       "      <th>75%</th>\n",
       "      <td>27.000000</td>\n",
       "      <td>10.000000</td>\n",
       "      <td>0.000000</td>\n",
       "      <td>10.000000</td>\n",
       "      <td>11.000000</td>\n",
       "      <td>2.742338</td>\n",
       "      <td>6.000000</td>\n",
       "      <td>6.000000</td>\n",
       "      <td>7.000000</td>\n",
       "      <td>3.666667</td>\n",
       "      <td>14.000000</td>\n",
       "      <td>1.000000</td>\n",
       "      <td>1.000000</td>\n",
       "    </tr>\n",
       "    <tr>\n",
       "      <th>80%</th>\n",
       "      <td>27.000000</td>\n",
       "      <td>10.000000</td>\n",
       "      <td>0.000000</td>\n",
       "      <td>10.000000</td>\n",
       "      <td>11.000000</td>\n",
       "      <td>2.767195</td>\n",
       "      <td>6.000000</td>\n",
       "      <td>6.000000</td>\n",
       "      <td>7.000000</td>\n",
       "      <td>4.000000</td>\n",
       "      <td>14.000000</td>\n",
       "      <td>1.000000</td>\n",
       "      <td>1.000000</td>\n",
       "    </tr>\n",
       "    <tr>\n",
       "      <th>85%</th>\n",
       "      <td>27.000000</td>\n",
       "      <td>10.000000</td>\n",
       "      <td>0.000000</td>\n",
       "      <td>11.000000</td>\n",
       "      <td>11.000000</td>\n",
       "      <td>2.767195</td>\n",
       "      <td>6.000000</td>\n",
       "      <td>6.000000</td>\n",
       "      <td>7.000000</td>\n",
       "      <td>4.666667</td>\n",
       "      <td>14.000000</td>\n",
       "      <td>1.000000</td>\n",
       "      <td>1.000000</td>\n",
       "    </tr>\n",
       "    <tr>\n",
       "      <th>95%</th>\n",
       "      <td>27.000000</td>\n",
       "      <td>10.000000</td>\n",
       "      <td>0.000000</td>\n",
       "      <td>14.000000</td>\n",
       "      <td>11.000000</td>\n",
       "      <td>2.929439</td>\n",
       "      <td>6.000000</td>\n",
       "      <td>6.000000</td>\n",
       "      <td>11.000000</td>\n",
       "      <td>6.500000</td>\n",
       "      <td>14.000000</td>\n",
       "      <td>1.000000</td>\n",
       "      <td>1.000000</td>\n",
       "    </tr>\n",
       "    <tr>\n",
       "      <th>99%</th>\n",
       "      <td>27.000000</td>\n",
       "      <td>10.000000</td>\n",
       "      <td>0.000000</td>\n",
       "      <td>16.000000</td>\n",
       "      <td>11.000000</td>\n",
       "      <td>3.144938</td>\n",
       "      <td>6.000000</td>\n",
       "      <td>6.000000</td>\n",
       "      <td>13.000000</td>\n",
       "      <td>8.000000</td>\n",
       "      <td>15.000000</td>\n",
       "      <td>1.000000</td>\n",
       "      <td>1.000000</td>\n",
       "    </tr>\n",
       "    <tr>\n",
       "      <th>99.5%</th>\n",
       "      <td>27.000000</td>\n",
       "      <td>10.000000</td>\n",
       "      <td>0.000000</td>\n",
       "      <td>16.000000</td>\n",
       "      <td>11.000000</td>\n",
       "      <td>3.249687</td>\n",
       "      <td>6.000000</td>\n",
       "      <td>6.000000</td>\n",
       "      <td>13.000000</td>\n",
       "      <td>8.000000</td>\n",
       "      <td>16.000000</td>\n",
       "      <td>1.000000</td>\n",
       "      <td>1.000000</td>\n",
       "    </tr>\n",
       "    <tr>\n",
       "      <th>max</th>\n",
       "      <td>27.000000</td>\n",
       "      <td>10.000000</td>\n",
       "      <td>2.000000</td>\n",
       "      <td>16.000000</td>\n",
       "      <td>11.000000</td>\n",
       "      <td>3.625000</td>\n",
       "      <td>6.000000</td>\n",
       "      <td>6.000000</td>\n",
       "      <td>15.000000</td>\n",
       "      <td>9.000000</td>\n",
       "      <td>17.000000</td>\n",
       "      <td>1.000000</td>\n",
       "      <td>1.000000</td>\n",
       "    </tr>\n",
       "  </tbody>\n",
       "</table>\n",
       "</div>"
      ],
      "text/plain": [
       "          FQDN_count  subdomain_length          upper          lower  \\\n",
       "count  243993.000000     243993.000000  243993.000000  243993.000000   \n",
       "mean       22.078580          6.426635       0.008263      10.287098   \n",
       "std         5.978029          3.676351       0.128284       1.691725   \n",
       "min         2.000000          0.000000       0.000000       0.000000   \n",
       "5%         10.000000          0.000000       0.000000       8.000000   \n",
       "25%        17.000000          3.000000       0.000000      10.000000   \n",
       "50%        24.000000          7.000000       0.000000      10.000000   \n",
       "75%        27.000000         10.000000       0.000000      10.000000   \n",
       "80%        27.000000         10.000000       0.000000      10.000000   \n",
       "85%        27.000000         10.000000       0.000000      11.000000   \n",
       "95%        27.000000         10.000000       0.000000      14.000000   \n",
       "99%        27.000000         10.000000       0.000000      16.000000   \n",
       "99.5%      27.000000         10.000000       0.000000      16.000000   \n",
       "max        27.000000         10.000000       2.000000      16.000000   \n",
       "\n",
       "             numeric        entropy        special         labels  \\\n",
       "count  243993.000000  243993.000000  243993.000000  243993.000000   \n",
       "mean        6.977479       2.435204       4.805740       5.024447   \n",
       "std         4.278127       0.369467       2.027313       1.651158   \n",
       "min         0.000000       0.219195       0.000000       1.000000   \n",
       "5%          0.000000       2.054029       1.000000       2.000000   \n",
       "25%         1.000000       2.054029       3.000000       3.000000   \n",
       "50%         8.000000       2.570417       6.000000       6.000000   \n",
       "75%        11.000000       2.742338       6.000000       6.000000   \n",
       "80%        11.000000       2.767195       6.000000       6.000000   \n",
       "85%        11.000000       2.767195       6.000000       6.000000   \n",
       "95%        11.000000       2.929439       6.000000       6.000000   \n",
       "99%        11.000000       3.144938       6.000000       6.000000   \n",
       "99.5%      11.000000       3.249687       6.000000       6.000000   \n",
       "max        11.000000       3.625000       6.000000       6.000000   \n",
       "\n",
       "          labels_max  labels_average            len      subdomain  \\\n",
       "count  243993.000000   243993.000000  243993.000000  243993.000000   \n",
       "mean        7.227752        3.845150      11.705094       0.792564   \n",
       "std         1.515324        1.082362       2.310500       0.405472   \n",
       "min         2.000000        2.000000       2.000000       0.000000   \n",
       "5%          5.000000        3.166667       7.000000       0.000000   \n",
       "25%         7.000000        3.166667      11.000000       1.000000   \n",
       "50%         7.000000        3.500000      12.000000       1.000000   \n",
       "75%         7.000000        3.666667      14.000000       1.000000   \n",
       "80%         7.000000        4.000000      14.000000       1.000000   \n",
       "85%         7.000000        4.666667      14.000000       1.000000   \n",
       "95%        11.000000        6.500000      14.000000       1.000000   \n",
       "99%        13.000000        8.000000      15.000000       1.000000   \n",
       "99.5%      13.000000        8.000000      16.000000       1.000000   \n",
       "max        15.000000        9.000000      17.000000       1.000000   \n",
       "\n",
       "       Target Attack  \n",
       "count  243993.000000  \n",
       "mean        0.567639  \n",
       "std         0.495405  \n",
       "min         0.000000  \n",
       "5%          0.000000  \n",
       "25%         0.000000  \n",
       "50%         1.000000  \n",
       "75%         1.000000  \n",
       "80%         1.000000  \n",
       "85%         1.000000  \n",
       "95%         1.000000  \n",
       "99%         1.000000  \n",
       "99.5%       1.000000  \n",
       "max         1.000000  "
      ]
     },
     "execution_count": 99,
     "metadata": {},
     "output_type": "execute_result"
    }
   ],
   "source": [
    "df = df_s.loc[(df_s['FQDN_count'] <= df_s['FQDN_count'].quantile(0.95)) & \n",
    "              (df_s['subdomain_length'] <= df_s['subdomain_length'].quantile(0.95)) & \n",
    "              (df_s['lower'] <= df_s['lower'].quantile(0.95)) & \n",
    "              (df_s['labels_max'] <= df_s['labels_max'].quantile(0.95)) &\n",
    "              (df_s['labels_average'] <= df_s['labels_average'].quantile(0.95)) &\n",
    "              (df_s['len'] <= df_s['len'].quantile(0.95))]\n",
    "    \n",
    "df.describe(percentiles = [0.05,0.25,0.5,0.75,0.8,0.85,0.95,0.99,0.995])\n"
   ]
  },
  {
   "cell_type": "markdown",
   "id": "e9a71cf7",
   "metadata": {},
   "source": [
    "### 3.2 Check for missing/ null values"
   ]
  },
  {
   "cell_type": "code",
   "execution_count": 100,
   "id": "91eb1a0d",
   "metadata": {},
   "outputs": [
    {
     "data": {
      "text/plain": [
       "timestamp           0\n",
       "FQDN_count          0\n",
       "subdomain_length    0\n",
       "upper               0\n",
       "lower               0\n",
       "numeric             0\n",
       "entropy             0\n",
       "special             0\n",
       "labels              0\n",
       "labels_max          0\n",
       "labels_average      0\n",
       "longest_word        8\n",
       "sld                 0\n",
       "len                 0\n",
       "subdomain           0\n",
       "Target Attack       0\n",
       "dtype: int64"
      ]
     },
     "execution_count": 100,
     "metadata": {},
     "output_type": "execute_result"
    }
   ],
   "source": [
    "df.isnull().sum()"
   ]
  },
  {
   "cell_type": "code",
   "execution_count": 101,
   "id": "5609da5c",
   "metadata": {},
   "outputs": [],
   "source": [
    "df.dropna(inplace= True)"
   ]
  },
  {
   "cell_type": "code",
   "execution_count": 102,
   "id": "89e16a39",
   "metadata": {},
   "outputs": [
    {
     "data": {
      "text/plain": [
       "timestamp           0\n",
       "FQDN_count          0\n",
       "subdomain_length    0\n",
       "upper               0\n",
       "lower               0\n",
       "numeric             0\n",
       "entropy             0\n",
       "special             0\n",
       "labels              0\n",
       "labels_max          0\n",
       "labels_average      0\n",
       "longest_word        0\n",
       "sld                 0\n",
       "len                 0\n",
       "subdomain           0\n",
       "Target Attack       0\n",
       "dtype: int64"
      ]
     },
     "execution_count": 102,
     "metadata": {},
     "output_type": "execute_result"
    }
   ],
   "source": [
    "df.isnull().sum()"
   ]
  },
  {
   "cell_type": "markdown",
   "id": "0b165d6c",
   "metadata": {},
   "source": [
    "### 3.3 Checking Skewness"
   ]
  },
  {
   "cell_type": "code",
   "execution_count": 103,
   "id": "36fe00d6",
   "metadata": {},
   "outputs": [
    {
     "data": {
      "text/plain": [
       "['FQDN_count',\n",
       " 'subdomain_length',\n",
       " 'upper',\n",
       " 'lower',\n",
       " 'numeric',\n",
       " 'entropy',\n",
       " 'special',\n",
       " 'labels',\n",
       " 'labels_max',\n",
       " 'labels_average',\n",
       " 'len',\n",
       " 'subdomain']"
      ]
     },
     "execution_count": 103,
     "metadata": {},
     "output_type": "execute_result"
    }
   ],
   "source": [
    "num_cols"
   ]
  },
  {
   "cell_type": "code",
   "execution_count": 104,
   "id": "ec038c4b",
   "metadata": {},
   "outputs": [
    {
     "data": {
      "text/plain": [
       "<Figure size 1440x504 with 0 Axes>"
      ]
     },
     "metadata": {},
     "output_type": "display_data"
    },
    {
     "data": {
      "image/png": "[encoded data removed]",
      "text/plain": [
       "<Figure size 360x360 with 1 Axes>"
      ]
     },
     "metadata": {
      "needs_background": "light"
     },
     "output_type": "display_data"
    },
    {
     "data": {
      "text/plain": [
       "<Figure size 1440x504 with 0 Axes>"
      ]
     },
     "metadata": {},
     "output_type": "display_data"
    },
    {
     "data": {
      "image/png": "[encoded data removed]",
      "text/plain": [
       "<Figure size 360x360 with 1 Axes>"
      ]
     },
     "metadata": {
      "needs_background": "light"
     },
     "output_type": "display_data"
    },
    {
     "data": {
      "text/plain": [
       "<Figure size 1440x504 with 0 Axes>"
      ]
     },
     "metadata": {},
     "output_type": "display_data"
    },
    {
     "data": {
      "image/png": "[encoded data removed]",
      "text/plain": [
       "<Figure size 360x360 with 1 Axes>"
      ]
     },
     "metadata": {
      "needs_background": "light"
     },
     "output_type": "display_data"
    },
    {
     "data": {
      "text/plain": [
       "<Figure size 1440x504 with 0 Axes>"
      ]
     },
     "metadata": {},
     "output_type": "display_data"
    },
    {
     "data": {
      "image/png": "[encoded data removed]",
      "text/plain": [
       "<Figure size 360x360 with 1 Axes>"
      ]
     },
     "metadata": {
      "needs_background": "light"
     },
     "output_type": "display_data"
    },
    {
     "data": {
      "text/plain": [
       "<Figure size 1440x504 with 0 Axes>"
      ]
     },
     "metadata": {},
     "output_type": "display_data"
    },
    {
     "data": {
      "image/png": "[encoded data removed]",
      "text/plain": [
       "<Figure size 360x360 with 1 Axes>"
      ]
     },
     "metadata": {
      "needs_background": "light"
     },
     "output_type": "display_data"
    },
    {
     "data": {
      "text/plain": [
       "<Figure size 1440x504 with 0 Axes>"
      ]
     },
     "metadata": {},
     "output_type": "display_data"
    },
    {
     "data": {
      "image/png": "[encoded data removed]",
      "text/plain": [
       "<Figure size 360x360 with 1 Axes>"
      ]
     },
     "metadata": {
      "needs_background": "light"
     },
     "output_type": "display_data"
    },
    {
     "data": {
      "text/plain": [
       "<Figure size 1440x504 with 0 Axes>"
      ]
     },
     "metadata": {},
     "output_type": "display_data"
    },
    {
     "data": {
      "image/png": "[encoded data removed]",
      "text/plain": [
       "<Figure size 360x360 with 1 Axes>"
      ]
     },
     "metadata": {
      "needs_background": "light"
     },
     "output_type": "display_data"
    },
    {
     "data": {
      "text/plain": [
       "<Figure size 1440x504 with 0 Axes>"
      ]
     },
     "metadata": {},
     "output_type": "display_data"
    },
    {
     "data": {
      "image/png": "[encoded data removed]",
      "text/plain": [
       "<Figure size 360x360 with 1 Axes>"
      ]
     },
     "metadata": {
      "needs_background": "light"
     },
     "output_type": "display_data"
    },
    {
     "data": {
      "text/plain": [
       "<Figure size 1440x504 with 0 Axes>"
      ]
     },
     "metadata": {},
     "output_type": "display_data"
    },
    {
     "data": {
      "image/png": "[encoded data removed]",
      "text/plain": [
       "<Figure size 360x360 with 1 Axes>"
      ]
     },
     "metadata": {
      "needs_background": "light"
     },
     "output_type": "display_data"
    },
    {
     "data": {
      "text/plain": [
       "<Figure size 1440x504 with 0 Axes>"
      ]
     },
     "metadata": {},
     "output_type": "display_data"
    },
    {
     "data": {
      "image/png": "[encoded data removed]",
      "text/plain": [
       "<Figure size 360x360 with 1 Axes>"
      ]
     },
     "metadata": {
      "needs_background": "light"
     },
     "output_type": "display_data"
    },
    {
     "data": {
      "text/plain": [
       "<Figure size 1440x504 with 0 Axes>"
      ]
     },
     "metadata": {},
     "output_type": "display_data"
    },
    {
     "data": {
      "image/png": "[encoded data removed]",
      "text/plain": [
       "<Figure size 360x360 with 1 Axes>"
      ]
     },
     "metadata": {
      "needs_background": "light"
     },
     "output_type": "display_data"
    },
    {
     "data": {
      "text/plain": [
       "<Figure size 1440x504 with 0 Axes>"
      ]
     },
     "metadata": {},
     "output_type": "display_data"
    },
    {
     "data": {
      "image/png": "[encoded data removed]",
      "text/plain": [
       "<Figure size 360x360 with 1 Axes>"
      ]
     },
     "metadata": {
      "needs_background": "light"
     },
     "output_type": "display_data"
    }
   ],
   "source": [
    "for i, col in enumerate(num_cols):\n",
    "    plt.figure(figsize= (6,3))\n",
    "    sns.displot(df[col], kde_kws={'bw': 0.05})\n",
    "    plt.show()\n",
    "    "
   ]
  },
  {
   "cell_type": "code",
   "execution_count": 105,
   "id": "eafa089d",
   "metadata": {},
   "outputs": [],
   "source": [
    "# for a good model, data should be in form of bell curve\n",
    "# if skewness is present in data - left skewed or right skewed - model wont give good results\n",
    "# do skewness treatment and convert data to NORMAL DISTRIBUTION\n"
   ]
  },
  {
   "cell_type": "markdown",
   "id": "8458657d",
   "metadata": {},
   "source": [
    "### Observation\n",
    "### 1. Above plots show variables are categorical in nature\n",
    "### 2. No skeness treatment is required"
   ]
  },
  {
   "cell_type": "markdown",
   "id": "8bb4ea41",
   "metadata": {},
   "source": [
    "## 4. Feature Engineering"
   ]
  },
  {
   "cell_type": "code",
   "execution_count": 109,
   "id": "f39d174c",
   "metadata": {},
   "outputs": [
    {
     "data": {
      "text/plain": [
       "(243985, 16)"
      ]
     },
     "execution_count": 109,
     "metadata": {},
     "output_type": "execute_result"
    }
   ],
   "source": [
    "df.shape"
   ]
  },
  {
   "cell_type": "code",
   "execution_count": 110,
   "id": "29217ac6",
   "metadata": {},
   "outputs": [
    {
     "data": {
      "text/plain": [
       "Index(['timestamp', 'FQDN_count', 'subdomain_length', 'upper', 'lower',\n",
       "       'numeric', 'entropy', 'special', 'labels', 'labels_max',\n",
       "       'labels_average', 'longest_word', 'sld', 'len', 'subdomain',\n",
       "       'Target Attack'],\n",
       "      dtype='object')"
      ]
     },
     "execution_count": 110,
     "metadata": {},
     "output_type": "execute_result"
    }
   ],
   "source": [
    "df.columns"
   ]
  },
  {
   "cell_type": "code",
   "execution_count": 111,
   "id": "ace07630",
   "metadata": {},
   "outputs": [
    {
     "data": {
      "text/plain": [
       "<AxesSubplot:>"
      ]
     },
     "execution_count": 111,
     "metadata": {},
     "output_type": "execute_result"
    },
    {
     "data": {
      "image/png": "[encoded data removed]",
      "text/plain": [
       "<Figure size 1080x864 with 2 Axes>"
      ]
     },
     "metadata": {
      "needs_background": "light"
     },
     "output_type": "display_data"
    }
   ],
   "source": [
    "# Correlation matrix\n",
    "cor = df.corr()\n",
    "\n",
    "plt.figure(figsize= (15, 12))\n",
    "\n",
    "sns.heatmap(cor, annot= True)"
   ]
  },
  {
   "cell_type": "code",
   "execution_count": 112,
   "id": "527e8891",
   "metadata": {},
   "outputs": [
    {
     "data": {
      "text/plain": [
       "labels_average     -0.457061\n",
       "lower              -0.227523\n",
       "labels_max         -0.207929\n",
       "entropy            -0.051541\n",
       "upper               0.025255\n",
       "len                 0.346266\n",
       "subdomain           0.564164\n",
       "FQDN_count          0.596773\n",
       "subdomain_length    0.611408\n",
       "numeric             0.620326\n",
       "labels              0.632989\n",
       "special             0.638933\n",
       "Target Attack       1.000000\n",
       "Name: Target Attack, dtype: float64"
      ]
     },
     "execution_count": 112,
     "metadata": {},
     "output_type": "execute_result"
    }
   ],
   "source": [
    "cor['Target Attack'].sort_values()"
   ]
  },
  {
   "cell_type": "code",
   "execution_count": null,
   "id": "4dfa0135",
   "metadata": {},
   "outputs": [],
   "source": [
    "# By calculating correlation score between target and all the features, \n",
    "# it is clearly evident that features: upper, entropy have very less correlation values\n",
    "# hence we should drop them."
   ]
  },
  {
   "cell_type": "code",
   "execution_count": 114,
   "id": "29ea8724",
   "metadata": {},
   "outputs": [],
   "source": [
    "df.drop(columns=['upper', 'entropy'], inplace=True)"
   ]
  },
  {
   "cell_type": "code",
   "execution_count": 115,
   "id": "48d2affa",
   "metadata": {},
   "outputs": [
    {
     "data": {
      "text/plain": [
       "(243985, 14)"
      ]
     },
     "execution_count": 115,
     "metadata": {},
     "output_type": "execute_result"
    }
   ],
   "source": [
    "df.shape"
   ]
  },
  {
   "cell_type": "code",
   "execution_count": 116,
   "id": "9d2bdfba",
   "metadata": {},
   "outputs": [],
   "source": [
    "df.timestamp = df.timestamp.apply(hash)\n",
    "df.longest_word = df.longest_word.apply(hash)\n",
    "df.sld = df.sld.apply(hash)"
   ]
  },
  {
   "cell_type": "code",
   "execution_count": 117,
   "id": "9f08f78e",
   "metadata": {},
   "outputs": [
    {
     "name": "stdout",
     "output_type": "stream",
     "text": [
      "timestamp  :  35855\n",
      "FQDN_count  :  24\n",
      "subdomain_length  :  11\n",
      "lower  :  16\n",
      "numeric  :  11\n",
      "special  :  7\n",
      "labels  :  6\n",
      "labels_max  :  14\n",
      "labels_average  :  32\n",
      "longest_word  :  5487\n",
      "sld  :  9534\n",
      "len  :  16\n",
      "subdomain  :  2\n",
      "Target Attack  :  2\n"
     ]
    }
   ],
   "source": [
    "\n",
    "for col in df.columns:\n",
    "    print(col, \" : \" ,len(df[col].unique()))\n",
    "    "
   ]
  },
  {
   "cell_type": "code",
   "execution_count": 118,
   "id": "22873d25",
   "metadata": {},
   "outputs": [
    {
     "name": "stdout",
     "output_type": "stream",
     "text": [
      "<class 'pandas.core.frame.DataFrame'>\n",
      "Int64Index: 243985 entries, 0 to 268073\n",
      "Data columns (total 14 columns):\n",
      " #   Column            Non-Null Count   Dtype  \n",
      "---  ------            --------------   -----  \n",
      " 0   timestamp         243985 non-null  int64  \n",
      " 1   FQDN_count        243985 non-null  int64  \n",
      " 2   subdomain_length  243985 non-null  int64  \n",
      " 3   lower             243985 non-null  int64  \n",
      " 4   numeric           243985 non-null  int64  \n",
      " 5   special           243985 non-null  int64  \n",
      " 6   labels            243985 non-null  int64  \n",
      " 7   labels_max        243985 non-null  int64  \n",
      " 8   labels_average    243985 non-null  float64\n",
      " 9   longest_word      243985 non-null  int64  \n",
      " 10  sld               243985 non-null  int64  \n",
      " 11  len               243985 non-null  int64  \n",
      " 12  subdomain         243985 non-null  int64  \n",
      " 13  Target Attack     243985 non-null  int64  \n",
      "dtypes: float64(1), int64(13)\n",
      "memory usage: 27.9 MB\n"
     ]
    }
   ],
   "source": [
    "df.info()"
   ]
  },
  {
   "cell_type": "markdown",
   "id": "a28d0a95",
   "metadata": {},
   "source": [
    "## 5. Splitting data into train and test"
   ]
  },
  {
   "cell_type": "code",
   "execution_count": 119,
   "id": "3d9ec20d",
   "metadata": {},
   "outputs": [
    {
     "data": {
      "text/html": [
       "<div>\n",
       "<style scoped>\n",
       "    .dataframe tbody tr th:only-of-type {\n",
       "        vertical-align: middle;\n",
       "    }\n",
       "\n",
       "    .dataframe tbody tr th {\n",
       "        vertical-align: top;\n",
       "    }\n",
       "\n",
       "    .dataframe thead th {\n",
       "        text-align: right;\n",
       "    }\n",
       "</style>\n",
       "<table border=\"1\" class=\"dataframe\">\n",
       "  <thead>\n",
       "    <tr style=\"text-align: right;\">\n",
       "      <th></th>\n",
       "      <th>timestamp</th>\n",
       "      <th>FQDN_count</th>\n",
       "      <th>subdomain_length</th>\n",
       "      <th>lower</th>\n",
       "      <th>numeric</th>\n",
       "      <th>special</th>\n",
       "      <th>labels</th>\n",
       "      <th>labels_max</th>\n",
       "      <th>labels_average</th>\n",
       "      <th>longest_word</th>\n",
       "      <th>sld</th>\n",
       "      <th>len</th>\n",
       "      <th>subdomain</th>\n",
       "    </tr>\n",
       "  </thead>\n",
       "  <tbody>\n",
       "    <tr>\n",
       "      <th>0</th>\n",
       "      <td>7920084880853807998</td>\n",
       "      <td>27</td>\n",
       "      <td>10</td>\n",
       "      <td>10</td>\n",
       "      <td>11</td>\n",
       "      <td>6</td>\n",
       "      <td>6</td>\n",
       "      <td>7</td>\n",
       "      <td>3.666667</td>\n",
       "      <td>485739221839056575</td>\n",
       "      <td>8200574400317852349</td>\n",
       "      <td>14</td>\n",
       "      <td>1</td>\n",
       "    </tr>\n",
       "    <tr>\n",
       "      <th>1</th>\n",
       "      <td>4609793497361844449</td>\n",
       "      <td>27</td>\n",
       "      <td>10</td>\n",
       "      <td>10</td>\n",
       "      <td>11</td>\n",
       "      <td>6</td>\n",
       "      <td>6</td>\n",
       "      <td>7</td>\n",
       "      <td>3.666667</td>\n",
       "      <td>485739221839056575</td>\n",
       "      <td>8200574400317852349</td>\n",
       "      <td>14</td>\n",
       "      <td>1</td>\n",
       "    </tr>\n",
       "    <tr>\n",
       "      <th>2</th>\n",
       "      <td>-4589744221049478451</td>\n",
       "      <td>26</td>\n",
       "      <td>9</td>\n",
       "      <td>10</td>\n",
       "      <td>10</td>\n",
       "      <td>6</td>\n",
       "      <td>6</td>\n",
       "      <td>7</td>\n",
       "      <td>3.500000</td>\n",
       "      <td>485739221839056575</td>\n",
       "      <td>8200574400317852349</td>\n",
       "      <td>13</td>\n",
       "      <td>1</td>\n",
       "    </tr>\n",
       "    <tr>\n",
       "      <th>3</th>\n",
       "      <td>-975144791313624867</td>\n",
       "      <td>27</td>\n",
       "      <td>10</td>\n",
       "      <td>10</td>\n",
       "      <td>11</td>\n",
       "      <td>6</td>\n",
       "      <td>6</td>\n",
       "      <td>7</td>\n",
       "      <td>3.666667</td>\n",
       "      <td>485739221839056575</td>\n",
       "      <td>8200574400317852349</td>\n",
       "      <td>14</td>\n",
       "      <td>1</td>\n",
       "    </tr>\n",
       "    <tr>\n",
       "      <th>4</th>\n",
       "      <td>5023982727480093182</td>\n",
       "      <td>15</td>\n",
       "      <td>9</td>\n",
       "      <td>11</td>\n",
       "      <td>0</td>\n",
       "      <td>4</td>\n",
       "      <td>3</td>\n",
       "      <td>5</td>\n",
       "      <td>4.333333</td>\n",
       "      <td>8618064564080771499</td>\n",
       "      <td>8618064564080771499</td>\n",
       "      <td>15</td>\n",
       "      <td>1</td>\n",
       "    </tr>\n",
       "  </tbody>\n",
       "</table>\n",
       "</div>"
      ],
      "text/plain": [
       "             timestamp  FQDN_count  subdomain_length  lower  numeric  special  \\\n",
       "0  7920084880853807998          27                10     10       11        6   \n",
       "1  4609793497361844449          27                10     10       11        6   \n",
       "2 -4589744221049478451          26                 9     10       10        6   \n",
       "3  -975144791313624867          27                10     10       11        6   \n",
       "4  5023982727480093182          15                 9     11        0        4   \n",
       "\n",
       "   labels  labels_max  labels_average         longest_word  \\\n",
       "0       6           7        3.666667   485739221839056575   \n",
       "1       6           7        3.666667   485739221839056575   \n",
       "2       6           7        3.500000   485739221839056575   \n",
       "3       6           7        3.666667   485739221839056575   \n",
       "4       3           5        4.333333  8618064564080771499   \n",
       "\n",
       "                   sld  len  subdomain  \n",
       "0  8200574400317852349   14          1  \n",
       "1  8200574400317852349   14          1  \n",
       "2  8200574400317852349   13          1  \n",
       "3  8200574400317852349   14          1  \n",
       "4  8618064564080771499   15          1  "
      ]
     },
     "execution_count": 119,
     "metadata": {},
     "output_type": "execute_result"
    }
   ],
   "source": [
    "y = df.pop('Target Attack')\n",
    "X = df\n",
    "X.head()"
   ]
  },
  {
   "cell_type": "code",
   "execution_count": 120,
   "id": "6640a339",
   "metadata": {},
   "outputs": [
    {
     "name": "stdout",
     "output_type": "stream",
     "text": [
      "Train data : \n",
      " 1    110800\n",
      "0     84388\n",
      "Name: Target Attack, dtype: int64\n",
      "Test data : \n",
      " 1    27700\n",
      "0    21097\n",
      "Name: Target Attack, dtype: int64\n"
     ]
    }
   ],
   "source": [
    "#Spiliting data set into train and test\n",
    "# stratify = y , preserves ratio of both classes after splitting as well\n",
    "\n",
    "X_train, X_test, y_train, y_test = train_test_split(df, y, train_size = 0.8, random_state = 42, stratify=y) \n",
    "\n",
    "print('Train data : \\n',y_train.value_counts())\n",
    "print('Test data : \\n',y_test.value_counts())\n"
   ]
  },
  {
   "cell_type": "code",
   "execution_count": 121,
   "id": "464f3698",
   "metadata": {},
   "outputs": [],
   "source": [
    "### Feature selection using Chi-square test\n",
    "### Selecting top 10 features only"
   ]
  },
  {
   "cell_type": "code",
   "execution_count": 122,
   "id": "b224531b",
   "metadata": {},
   "outputs": [
    {
     "name": "stdout",
     "output_type": "stream",
     "text": [
      "\n"
     ]
    }
   ],
   "source": [
    "from sklearn.feature_selection import SelectKBest\n",
    "from sklearn.feature_selection import chi2\n",
    "\n",
    "sel_cols = SelectKBest(chi2, k=10)\n",
    "sel_cols.fit(X_train, y_train)\n",
    "topk = list(X_train.columns[sel_cols.get_support()])\n"
   ]
  },
  {
   "cell_type": "code",
   "execution_count": 123,
   "id": "17de35b5",
   "metadata": {},
   "outputs": [
    {
     "data": {
      "text/plain": [
       "['timestamp',\n",
       " 'FQDN_count',\n",
       " 'subdomain_length',\n",
       " 'lower',\n",
       " 'numeric',\n",
       " 'special',\n",
       " 'labels',\n",
       " 'labels_max',\n",
       " 'labels_average',\n",
       " 'longest_word',\n",
       " 'sld',\n",
       " 'len',\n",
       " 'subdomain']"
      ]
     },
     "execution_count": 123,
     "metadata": {},
     "output_type": "execute_result"
    }
   ],
   "source": [
    "list(df.columns)"
   ]
  },
  {
   "cell_type": "code",
   "execution_count": 124,
   "id": "3932720e",
   "metadata": {},
   "outputs": [],
   "source": [
    "topk = ['FQDN_count',\n",
    " 'subdomain_length',\n",
    " 'numeric',\n",
    " 'special',\n",
    " 'labels',\n",
    " 'labels_average',\n",
    " 'longest_word',\n",
    " 'sld',\n",
    " 'len',\n",
    " 'subdomain']"
   ]
  },
  {
   "cell_type": "code",
   "execution_count": 125,
   "id": "3dfea144",
   "metadata": {},
   "outputs": [],
   "source": [
    "X_train = X_train[topk]\n",
    "X_test = X_test[topk]"
   ]
  },
  {
   "cell_type": "code",
   "execution_count": 126,
   "id": "52225b88",
   "metadata": {},
   "outputs": [
    {
     "name": "stdout",
     "output_type": "stream",
     "text": [
      "Train data : \n",
      " 1    56.765785\n",
      "0    43.234215\n",
      "Name: Target Attack, dtype: float64 \n",
      "\n",
      "Test data : \n",
      " 1    56.765785\n",
      "0    43.234215\n",
      "Name: Target Attack, dtype: float64\n"
     ]
    }
   ],
   "source": [
    "#Variations of different classes in train & test data set\n",
    "\n",
    "print('Train data : \\n',(y_train.value_counts()/len(y_train))*100,'\\n')\n",
    "print('Test data : \\n',(y_test.value_counts()/len(y_test))*100)"
   ]
  },
  {
   "cell_type": "code",
   "execution_count": 127,
   "id": "9bc299c4",
   "metadata": {},
   "outputs": [
    {
     "name": "stdout",
     "output_type": "stream",
     "text": [
      "len of X =  243985 , len of X_train + X_test =  243985 , X_train =  195188 , X_test =  48797\n"
     ]
    }
   ],
   "source": [
    "# Checking dimension after spliting\n",
    "\n",
    "print('len of X = ', len(X),', len of X_train + X_test = ', \\\n",
    "      len(X_train)+len(X_test),', X_train = ',len(X_train),', X_test = ',len(X_test))\n",
    "      "
   ]
  },
  {
   "cell_type": "markdown",
   "id": "44f1c25d",
   "metadata": {},
   "source": [
    "## 6. Standardizing Data - does help in faster computation"
   ]
  },
  {
   "cell_type": "code",
   "execution_count": 128,
   "id": "bc41d4b8",
   "metadata": {},
   "outputs": [
    {
     "name": "stdout",
     "output_type": "stream",
     "text": [
      "<class 'pandas.core.frame.DataFrame'>\n",
      "Int64Index: 195188 entries, 60604 to 116046\n",
      "Data columns (total 10 columns):\n",
      " #   Column            Non-Null Count   Dtype  \n",
      "---  ------            --------------   -----  \n",
      " 0   FQDN_count        195188 non-null  int64  \n",
      " 1   subdomain_length  195188 non-null  int64  \n",
      " 2   numeric           195188 non-null  int64  \n",
      " 3   special           195188 non-null  int64  \n",
      " 4   labels            195188 non-null  int64  \n",
      " 5   labels_average    195188 non-null  float64\n",
      " 6   longest_word      195188 non-null  int64  \n",
      " 7   sld               195188 non-null  int64  \n",
      " 8   len               195188 non-null  int64  \n",
      " 9   subdomain         195188 non-null  int64  \n",
      "dtypes: float64(1), int64(9)\n",
      "memory usage: 16.4 MB\n"
     ]
    }
   ],
   "source": [
    "X_train.info()"
   ]
  },
  {
   "cell_type": "code",
   "execution_count": 129,
   "id": "39b14596",
   "metadata": {},
   "outputs": [
    {
     "data": {
      "text/html": [
       "<div>\n",
       "<style scoped>\n",
       "    .dataframe tbody tr th:only-of-type {\n",
       "        vertical-align: middle;\n",
       "    }\n",
       "\n",
       "    .dataframe tbody tr th {\n",
       "        vertical-align: top;\n",
       "    }\n",
       "\n",
       "    .dataframe thead th {\n",
       "        text-align: right;\n",
       "    }\n",
       "</style>\n",
       "<table border=\"1\" class=\"dataframe\">\n",
       "  <thead>\n",
       "    <tr style=\"text-align: right;\">\n",
       "      <th></th>\n",
       "      <th>FQDN_count</th>\n",
       "      <th>subdomain_length</th>\n",
       "      <th>numeric</th>\n",
       "      <th>special</th>\n",
       "      <th>labels</th>\n",
       "      <th>labels_average</th>\n",
       "      <th>longest_word</th>\n",
       "      <th>sld</th>\n",
       "      <th>len</th>\n",
       "      <th>subdomain</th>\n",
       "    </tr>\n",
       "  </thead>\n",
       "  <tbody>\n",
       "    <tr>\n",
       "      <th>60604</th>\n",
       "      <td>0.36</td>\n",
       "      <td>0.3</td>\n",
       "      <td>0.000000</td>\n",
       "      <td>0.333333</td>\n",
       "      <td>0.4</td>\n",
       "      <td>0.142857</td>\n",
       "      <td>0.877195</td>\n",
       "      <td>0.877191</td>\n",
       "      <td>0.333333</td>\n",
       "      <td>1.0</td>\n",
       "    </tr>\n",
       "    <tr>\n",
       "      <th>146786</th>\n",
       "      <td>1.00</td>\n",
       "      <td>1.0</td>\n",
       "      <td>1.000000</td>\n",
       "      <td>1.000000</td>\n",
       "      <td>1.0</td>\n",
       "      <td>0.238095</td>\n",
       "      <td>0.526336</td>\n",
       "      <td>0.944618</td>\n",
       "      <td>0.800000</td>\n",
       "      <td>1.0</td>\n",
       "    </tr>\n",
       "    <tr>\n",
       "      <th>135258</th>\n",
       "      <td>0.88</td>\n",
       "      <td>0.7</td>\n",
       "      <td>0.727273</td>\n",
       "      <td>1.000000</td>\n",
       "      <td>1.0</td>\n",
       "      <td>0.166667</td>\n",
       "      <td>0.968379</td>\n",
       "      <td>0.242445</td>\n",
       "      <td>0.600000</td>\n",
       "      <td>1.0</td>\n",
       "    </tr>\n",
       "    <tr>\n",
       "      <th>75540</th>\n",
       "      <td>0.88</td>\n",
       "      <td>0.7</td>\n",
       "      <td>0.727273</td>\n",
       "      <td>1.000000</td>\n",
       "      <td>1.0</td>\n",
       "      <td>0.166667</td>\n",
       "      <td>0.968379</td>\n",
       "      <td>0.242445</td>\n",
       "      <td>0.600000</td>\n",
       "      <td>1.0</td>\n",
       "    </tr>\n",
       "    <tr>\n",
       "      <th>38309</th>\n",
       "      <td>0.88</td>\n",
       "      <td>0.7</td>\n",
       "      <td>0.727273</td>\n",
       "      <td>1.000000</td>\n",
       "      <td>1.0</td>\n",
       "      <td>0.166667</td>\n",
       "      <td>0.968379</td>\n",
       "      <td>0.242445</td>\n",
       "      <td>0.600000</td>\n",
       "      <td>1.0</td>\n",
       "    </tr>\n",
       "  </tbody>\n",
       "</table>\n",
       "</div>"
      ],
      "text/plain": [
       "        FQDN_count  subdomain_length   numeric   special  labels  \\\n",
       "60604         0.36               0.3  0.000000  0.333333     0.4   \n",
       "146786        1.00               1.0  1.000000  1.000000     1.0   \n",
       "135258        0.88               0.7  0.727273  1.000000     1.0   \n",
       "75540         0.88               0.7  0.727273  1.000000     1.0   \n",
       "38309         0.88               0.7  0.727273  1.000000     1.0   \n",
       "\n",
       "        labels_average  longest_word       sld       len  subdomain  \n",
       "60604         0.142857      0.877195  0.877191  0.333333        1.0  \n",
       "146786        0.238095      0.526336  0.944618  0.800000        1.0  \n",
       "135258        0.166667      0.968379  0.242445  0.600000        1.0  \n",
       "75540         0.166667      0.968379  0.242445  0.600000        1.0  \n",
       "38309         0.166667      0.968379  0.242445  0.600000        1.0  "
      ]
     },
     "execution_count": 129,
     "metadata": {},
     "output_type": "execute_result"
    }
   ],
   "source": [
    "scaler = MinMaxScaler()\n",
    "\n",
    "colX = X_train.columns\n",
    "\n",
    "X_train[colX] = scaler.fit_transform(X_train[colX])\n",
    "\n",
    "pickle.dump(scaler, open('my_scaler.pkl', 'wb'))\n",
    "\n",
    "X_train.head()\n"
   ]
  },
  {
   "cell_type": "code",
   "execution_count": 130,
   "id": "15ed85fb",
   "metadata": {},
   "outputs": [
    {
     "data": {
      "text/html": [
       "<div>\n",
       "<style scoped>\n",
       "    .dataframe tbody tr th:only-of-type {\n",
       "        vertical-align: middle;\n",
       "    }\n",
       "\n",
       "    .dataframe tbody tr th {\n",
       "        vertical-align: top;\n",
       "    }\n",
       "\n",
       "    .dataframe thead th {\n",
       "        text-align: right;\n",
       "    }\n",
       "</style>\n",
       "<table border=\"1\" class=\"dataframe\">\n",
       "  <thead>\n",
       "    <tr style=\"text-align: right;\">\n",
       "      <th></th>\n",
       "      <th>FQDN_count</th>\n",
       "      <th>subdomain_length</th>\n",
       "      <th>numeric</th>\n",
       "      <th>special</th>\n",
       "      <th>labels</th>\n",
       "      <th>labels_average</th>\n",
       "      <th>longest_word</th>\n",
       "      <th>sld</th>\n",
       "      <th>len</th>\n",
       "      <th>subdomain</th>\n",
       "    </tr>\n",
       "  </thead>\n",
       "  <tbody>\n",
       "    <tr>\n",
       "      <th>222009</th>\n",
       "      <td>1.00</td>\n",
       "      <td>1.0</td>\n",
       "      <td>1.000000</td>\n",
       "      <td>1.000000</td>\n",
       "      <td>1.0</td>\n",
       "      <td>0.238095</td>\n",
       "      <td>0.526336</td>\n",
       "      <td>0.944618</td>\n",
       "      <td>0.8</td>\n",
       "      <td>1.0</td>\n",
       "    </tr>\n",
       "    <tr>\n",
       "      <th>103187</th>\n",
       "      <td>1.00</td>\n",
       "      <td>1.0</td>\n",
       "      <td>1.000000</td>\n",
       "      <td>1.000000</td>\n",
       "      <td>1.0</td>\n",
       "      <td>0.238095</td>\n",
       "      <td>0.526336</td>\n",
       "      <td>0.944618</td>\n",
       "      <td>0.8</td>\n",
       "      <td>1.0</td>\n",
       "    </tr>\n",
       "    <tr>\n",
       "      <th>112215</th>\n",
       "      <td>1.00</td>\n",
       "      <td>1.0</td>\n",
       "      <td>1.000000</td>\n",
       "      <td>1.000000</td>\n",
       "      <td>1.0</td>\n",
       "      <td>0.238095</td>\n",
       "      <td>0.526336</td>\n",
       "      <td>0.944618</td>\n",
       "      <td>0.8</td>\n",
       "      <td>1.0</td>\n",
       "    </tr>\n",
       "    <tr>\n",
       "      <th>224397</th>\n",
       "      <td>0.64</td>\n",
       "      <td>0.3</td>\n",
       "      <td>0.000000</td>\n",
       "      <td>0.333333</td>\n",
       "      <td>0.4</td>\n",
       "      <td>0.476190</td>\n",
       "      <td>0.667445</td>\n",
       "      <td>0.049336</td>\n",
       "      <td>0.8</td>\n",
       "      <td>1.0</td>\n",
       "    </tr>\n",
       "    <tr>\n",
       "      <th>73341</th>\n",
       "      <td>0.88</td>\n",
       "      <td>0.7</td>\n",
       "      <td>0.727273</td>\n",
       "      <td>1.000000</td>\n",
       "      <td>1.0</td>\n",
       "      <td>0.166667</td>\n",
       "      <td>0.968379</td>\n",
       "      <td>0.242445</td>\n",
       "      <td>0.6</td>\n",
       "      <td>1.0</td>\n",
       "    </tr>\n",
       "  </tbody>\n",
       "</table>\n",
       "</div>"
      ],
      "text/plain": [
       "        FQDN_count  subdomain_length   numeric   special  labels  \\\n",
       "222009        1.00               1.0  1.000000  1.000000     1.0   \n",
       "103187        1.00               1.0  1.000000  1.000000     1.0   \n",
       "112215        1.00               1.0  1.000000  1.000000     1.0   \n",
       "224397        0.64               0.3  0.000000  0.333333     0.4   \n",
       "73341         0.88               0.7  0.727273  1.000000     1.0   \n",
       "\n",
       "        labels_average  longest_word       sld  len  subdomain  \n",
       "222009        0.238095      0.526336  0.944618  0.8        1.0  \n",
       "103187        0.238095      0.526336  0.944618  0.8        1.0  \n",
       "112215        0.238095      0.526336  0.944618  0.8        1.0  \n",
       "224397        0.476190      0.667445  0.049336  0.8        1.0  \n",
       "73341         0.166667      0.968379  0.242445  0.6        1.0  "
      ]
     },
     "execution_count": 130,
     "metadata": {},
     "output_type": "execute_result"
    }
   ],
   "source": [
    "# Standardizing X_test\n",
    "\n",
    "X_test[colX] = scaler.transform(X_test[colX])\n",
    "X_test.head()"
   ]
  },
  {
   "cell_type": "markdown",
   "id": "88b96175",
   "metadata": {},
   "source": [
    "## 7. Imblance Treatment"
   ]
  },
  {
   "cell_type": "code",
   "execution_count": 131,
   "id": "40b941d6",
   "metadata": {},
   "outputs": [
    {
     "name": "stdout",
     "output_type": "stream",
     "text": [
      "Shape of X_train after random undersampling : (168776, 10)\n",
      "Shape of original X_train : (195188, 10)\n"
     ]
    },
    {
     "data": {
      "text/html": [
       "<div>\n",
       "<style scoped>\n",
       "    .dataframe tbody tr th:only-of-type {\n",
       "        vertical-align: middle;\n",
       "    }\n",
       "\n",
       "    .dataframe tbody tr th {\n",
       "        vertical-align: top;\n",
       "    }\n",
       "\n",
       "    .dataframe thead th {\n",
       "        text-align: right;\n",
       "    }\n",
       "</style>\n",
       "<table border=\"1\" class=\"dataframe\">\n",
       "  <thead>\n",
       "    <tr style=\"text-align: right;\">\n",
       "      <th></th>\n",
       "      <th>FQDN_count</th>\n",
       "      <th>subdomain_length</th>\n",
       "      <th>numeric</th>\n",
       "      <th>special</th>\n",
       "      <th>labels</th>\n",
       "      <th>labels_average</th>\n",
       "      <th>longest_word</th>\n",
       "      <th>sld</th>\n",
       "      <th>len</th>\n",
       "      <th>subdomain</th>\n",
       "    </tr>\n",
       "  </thead>\n",
       "  <tbody>\n",
       "    <tr>\n",
       "      <th>0</th>\n",
       "      <td>0.36</td>\n",
       "      <td>0.3</td>\n",
       "      <td>0.000000</td>\n",
       "      <td>0.333333</td>\n",
       "      <td>0.4</td>\n",
       "      <td>0.142857</td>\n",
       "      <td>0.877195</td>\n",
       "      <td>0.877191</td>\n",
       "      <td>0.333333</td>\n",
       "      <td>1.0</td>\n",
       "    </tr>\n",
       "    <tr>\n",
       "      <th>1</th>\n",
       "      <td>0.88</td>\n",
       "      <td>0.7</td>\n",
       "      <td>0.727273</td>\n",
       "      <td>1.000000</td>\n",
       "      <td>1.0</td>\n",
       "      <td>0.166667</td>\n",
       "      <td>0.968379</td>\n",
       "      <td>0.242445</td>\n",
       "      <td>0.600000</td>\n",
       "      <td>1.0</td>\n",
       "    </tr>\n",
       "    <tr>\n",
       "      <th>2</th>\n",
       "      <td>0.24</td>\n",
       "      <td>0.0</td>\n",
       "      <td>0.000000</td>\n",
       "      <td>0.166667</td>\n",
       "      <td>0.2</td>\n",
       "      <td>0.214286</td>\n",
       "      <td>0.981643</td>\n",
       "      <td>0.089568</td>\n",
       "      <td>0.200000</td>\n",
       "      <td>0.0</td>\n",
       "    </tr>\n",
       "    <tr>\n",
       "      <th>3</th>\n",
       "      <td>0.88</td>\n",
       "      <td>0.7</td>\n",
       "      <td>0.727273</td>\n",
       "      <td>1.000000</td>\n",
       "      <td>1.0</td>\n",
       "      <td>0.166667</td>\n",
       "      <td>0.968379</td>\n",
       "      <td>0.242445</td>\n",
       "      <td>0.600000</td>\n",
       "      <td>1.0</td>\n",
       "    </tr>\n",
       "    <tr>\n",
       "      <th>4</th>\n",
       "      <td>0.52</td>\n",
       "      <td>0.3</td>\n",
       "      <td>0.000000</td>\n",
       "      <td>0.333333</td>\n",
       "      <td>0.4</td>\n",
       "      <td>0.333333</td>\n",
       "      <td>0.815137</td>\n",
       "      <td>0.815118</td>\n",
       "      <td>0.600000</td>\n",
       "      <td>1.0</td>\n",
       "    </tr>\n",
       "    <tr>\n",
       "      <th>...</th>\n",
       "      <td>...</td>\n",
       "      <td>...</td>\n",
       "      <td>...</td>\n",
       "      <td>...</td>\n",
       "      <td>...</td>\n",
       "      <td>...</td>\n",
       "      <td>...</td>\n",
       "      <td>...</td>\n",
       "      <td>...</td>\n",
       "      <td>...</td>\n",
       "    </tr>\n",
       "    <tr>\n",
       "      <th>168771</th>\n",
       "      <td>1.00</td>\n",
       "      <td>1.0</td>\n",
       "      <td>1.000000</td>\n",
       "      <td>1.000000</td>\n",
       "      <td>1.0</td>\n",
       "      <td>0.238095</td>\n",
       "      <td>0.526336</td>\n",
       "      <td>0.944618</td>\n",
       "      <td>0.800000</td>\n",
       "      <td>1.0</td>\n",
       "    </tr>\n",
       "    <tr>\n",
       "      <th>168772</th>\n",
       "      <td>0.88</td>\n",
       "      <td>0.7</td>\n",
       "      <td>0.727273</td>\n",
       "      <td>1.000000</td>\n",
       "      <td>1.0</td>\n",
       "      <td>0.166667</td>\n",
       "      <td>0.968379</td>\n",
       "      <td>0.242445</td>\n",
       "      <td>0.600000</td>\n",
       "      <td>1.0</td>\n",
       "    </tr>\n",
       "    <tr>\n",
       "      <th>168773</th>\n",
       "      <td>0.88</td>\n",
       "      <td>0.7</td>\n",
       "      <td>0.727273</td>\n",
       "      <td>1.000000</td>\n",
       "      <td>1.0</td>\n",
       "      <td>0.166667</td>\n",
       "      <td>0.968379</td>\n",
       "      <td>0.242445</td>\n",
       "      <td>0.600000</td>\n",
       "      <td>1.0</td>\n",
       "    </tr>\n",
       "    <tr>\n",
       "      <th>168774</th>\n",
       "      <td>0.88</td>\n",
       "      <td>0.7</td>\n",
       "      <td>0.727273</td>\n",
       "      <td>1.000000</td>\n",
       "      <td>1.0</td>\n",
       "      <td>0.166667</td>\n",
       "      <td>0.968379</td>\n",
       "      <td>0.242445</td>\n",
       "      <td>0.600000</td>\n",
       "      <td>1.0</td>\n",
       "    </tr>\n",
       "    <tr>\n",
       "      <th>168775</th>\n",
       "      <td>0.88</td>\n",
       "      <td>0.7</td>\n",
       "      <td>0.727273</td>\n",
       "      <td>1.000000</td>\n",
       "      <td>1.0</td>\n",
       "      <td>0.166667</td>\n",
       "      <td>0.968379</td>\n",
       "      <td>0.242445</td>\n",
       "      <td>0.600000</td>\n",
       "      <td>1.0</td>\n",
       "    </tr>\n",
       "  </tbody>\n",
       "</table>\n",
       "<p>168776 rows × 10 columns</p>\n",
       "</div>"
      ],
      "text/plain": [
       "        FQDN_count  subdomain_length   numeric   special  labels  \\\n",
       "0             0.36               0.3  0.000000  0.333333     0.4   \n",
       "1             0.88               0.7  0.727273  1.000000     1.0   \n",
       "2             0.24               0.0  0.000000  0.166667     0.2   \n",
       "3             0.88               0.7  0.727273  1.000000     1.0   \n",
       "4             0.52               0.3  0.000000  0.333333     0.4   \n",
       "...            ...               ...       ...       ...     ...   \n",
       "168771        1.00               1.0  1.000000  1.000000     1.0   \n",
       "168772        0.88               0.7  0.727273  1.000000     1.0   \n",
       "168773        0.88               0.7  0.727273  1.000000     1.0   \n",
       "168774        0.88               0.7  0.727273  1.000000     1.0   \n",
       "168775        0.88               0.7  0.727273  1.000000     1.0   \n",
       "\n",
       "        labels_average  longest_word       sld       len  subdomain  \n",
       "0             0.142857      0.877195  0.877191  0.333333        1.0  \n",
       "1             0.166667      0.968379  0.242445  0.600000        1.0  \n",
       "2             0.214286      0.981643  0.089568  0.200000        0.0  \n",
       "3             0.166667      0.968379  0.242445  0.600000        1.0  \n",
       "4             0.333333      0.815137  0.815118  0.600000        1.0  \n",
       "...                ...           ...       ...       ...        ...  \n",
       "168771        0.238095      0.526336  0.944618  0.800000        1.0  \n",
       "168772        0.166667      0.968379  0.242445  0.600000        1.0  \n",
       "168773        0.166667      0.968379  0.242445  0.600000        1.0  \n",
       "168774        0.166667      0.968379  0.242445  0.600000        1.0  \n",
       "168775        0.166667      0.968379  0.242445  0.600000        1.0  \n",
       "\n",
       "[168776 rows x 10 columns]"
      ]
     },
     "execution_count": 131,
     "metadata": {},
     "output_type": "execute_result"
    }
   ],
   "source": [
    "# Using RandomUnderSampler\n",
    "from imblearn.under_sampling import RandomUnderSampler #undersampling\n",
    "\n",
    "usm = RandomUnderSampler(random_state =42)\n",
    "\n",
    "X_train_us,y_train_us = usm.fit_resample(X_train, y_train)\n",
    "\n",
    "X_train_us =pd.DataFrame(X_train_us, columns = colX)\n",
    "\n",
    "print('Shape of X_train after random undersampling : {}'.format(X_train_us.shape))\n",
    "print('Shape of original X_train : {}'.format(X_train.shape))\n",
    "X_train_us.head()\n",
    "X_train_us"
   ]
  },
  {
   "cell_type": "code",
   "execution_count": 132,
   "id": "98aa1d3e",
   "metadata": {},
   "outputs": [
    {
     "data": {
      "text/plain": [
       "array([84388, 84388])"
      ]
     },
     "execution_count": 132,
     "metadata": {},
     "output_type": "execute_result"
    }
   ],
   "source": [
    "np.bincount(y_train_us)"
   ]
  },
  {
   "cell_type": "code",
   "execution_count": 133,
   "id": "60837226",
   "metadata": {},
   "outputs": [
    {
     "data": {
      "text/plain": [
       "array([ 84388, 110800])"
      ]
     },
     "execution_count": 133,
     "metadata": {},
     "output_type": "execute_result"
    }
   ],
   "source": [
    "np.bincount(y_train)"
   ]
  },
  {
   "cell_type": "markdown",
   "id": "d4f9f3fa",
   "metadata": {},
   "source": [
    "## 8. Model Training and Hyper-parameter tuning"
   ]
  },
  {
   "cell_type": "code",
   "execution_count": 134,
   "id": "d1eee16b",
   "metadata": {},
   "outputs": [
    {
     "name": "stdout",
     "output_type": "stream",
     "text": [
      "Fitting 3 folds for each of 10 candidates, totalling 30 fits\n"
     ]
    },
    {
     "data": {
      "text/plain": [
       "{'C': 0.5, 'penalty': 'l2'}"
      ]
     },
     "execution_count": 134,
     "metadata": {},
     "output_type": "execute_result"
    }
   ],
   "source": [
    "# HYPERPARAMETER TUNNING \n",
    "\n",
    "# Tuning logistic regression\n",
    "start = time.time()\n",
    "param_log = {'penalty':['l1','l2'],'C':[0.1,.2,.3,.4,.5]}\n",
    "\n",
    "log = LogisticRegression(class_weight ='balanced',random_state=42)\n",
    "\n",
    "folds= StratifiedKFold(n_splits = 3, shuffle = True, random_state = 42)\n",
    "grid_log = GridSearchCV(estimator = log, param_grid = param_log, \n",
    "                          cv = folds, n_jobs = -1,verbose = 1, scoring = 'roc_auc')\n",
    "\n",
    "grid_log.fit(X_train_us,y_train_us)\n",
    "\n",
    "grid_log.best_params_"
   ]
  },
  {
   "cell_type": "code",
   "execution_count": 135,
   "id": "ea922038",
   "metadata": {},
   "outputs": [
    {
     "name": "stdout",
     "output_type": "stream",
     "text": [
      "Train auc score :  0.7911681832511308\n",
      "Test auc score :  0.7929584005048709\n",
      "              precision    recall  f1-score   support\n",
      "\n",
      "           0       0.98      0.59      0.73     21097\n",
      "           1       0.76      0.99      0.86     27700\n",
      "\n",
      "    accuracy                           0.82     48797\n",
      "   macro avg       0.87      0.79      0.80     48797\n",
      "weighted avg       0.85      0.82      0.81     48797\n",
      "\n"
     ]
    }
   ],
   "source": [
    "#building model on best params\n",
    "\n",
    "logistic = LogisticRegression(class_weight ='balanced', random_state=42, C = 0.5, penalty='l2')\n",
    "\n",
    "logistic.fit(X_train_us,y_train_us)\n",
    "\n",
    "#prediction\n",
    "pred_log_sm_train = logistic.predict_proba(X_train_us)[:,1]\n",
    "pred_log_sm_test = logistic.predict_proba(X_test)[:,1]\n",
    "\n",
    "y_pred = logistic.predict(X_test)\n",
    "\n",
    "end = time.time()\n",
    "\n",
    "print ( 'Train auc score : ', roc_auc_score(y_train_us,pred_log_sm_train))\n",
    "print ( 'Test auc score : ', roc_auc_score(y_test,pred_log_sm_test))\n",
    "\n",
    "print(classification_report(y_test,y_pred))\n",
    "\n",
    "log_ex_time = end - start\n",
    "log_us_acc_test_cv = accuracy_score(y_test, y_pred)\n",
    "log_us_auc_test_cv = roc_auc_score(y_test, pred_log_sm_test)\n",
    "precision_log_us_cv = precision_score(y_test,y_pred)\n",
    "recall_log_us_cv = recall_score(y_test,y_pred)\n",
    "f1_log_us_cv = f1_score(y_test,y_pred)"
   ]
  },
  {
   "cell_type": "code",
   "execution_count": 136,
   "id": "44527b48",
   "metadata": {},
   "outputs": [
    {
     "data": {
      "image/png": "[encoded data removed]",
      "text/plain": [
       "<Figure size 504x360 with 1 Axes>"
      ]
     },
     "metadata": {
      "needs_background": "light"
     },
     "output_type": "display_data"
    }
   ],
   "source": [
    "# plotting ROC curve on test data\n",
    "fpr, tpr, thresholds = roc_curve(y_test, pred_log_sm_test)\n",
    "plt.figure(figsize =(7,5))\n",
    "plt.plot(fpr, tpr, label='Logistic Regression (area = %0.5f)' % log_us_auc_test_cv)\n",
    "plt.plot([0, 1], [0, 1])\n",
    "plt.xlim([0.0, 1.0])\n",
    "plt.ylim([0.0, 1.0])\n",
    "plt.xlabel('False Positive Rate')\n",
    "plt.ylabel('True Positive Rate')\n",
    "plt.title('ROC Curve')\n",
    "plt.legend(loc=\"lower right\")\n",
    "plt.show()"
   ]
  },
  {
   "cell_type": "code",
   "execution_count": 137,
   "id": "0b966710",
   "metadata": {},
   "outputs": [],
   "source": [
    "import pickle\n",
    "\n",
    "pickle.dump(logistic, open('logistic.pkl', 'wb'))"
   ]
  },
  {
   "cell_type": "code",
   "execution_count": 138,
   "id": "8d162fc4",
   "metadata": {},
   "outputs": [],
   "source": [
    "### yellow line is a random model\n",
    "### higher the area under curve, better the performance"
   ]
  },
  {
   "cell_type": "code",
   "execution_count": 139,
   "id": "dee698f1",
   "metadata": {},
   "outputs": [
    {
     "name": "stdout",
     "output_type": "stream",
     "text": [
      "Fitting 3 folds for each of 10 candidates, totalling 30 fits\n"
     ]
    },
    {
     "data": {
      "text/plain": [
       "RandomizedSearchCV(cv=StratifiedKFold(n_splits=3, random_state=42, shuffle=True),\n",
       "                   estimator=RandomForestClassifier(class_weight='balanced',\n",
       "                                                    n_jobs=-1,\n",
       "                                                    random_state=42),\n",
       "                   n_jobs=-1,\n",
       "                   param_distributions={'max_depth': [8, 10],\n",
       "                                        'max_features': [5, 10, 15, 20],\n",
       "                                        'min_samples_leaf': range(50, 200, 50),\n",
       "                                        'min_samples_split': range(50, 200, 50),\n",
       "                                        'n_estimators': [100, 150, 200, 300]},\n",
       "                   scoring='roc_auc', verbose=1)"
      ]
     },
     "execution_count": 139,
     "metadata": {},
     "output_type": "execute_result"
    }
   ],
   "source": [
    "# Random forest\n",
    "\n",
    "# Hyperparameter tuning for random forest\n",
    "\n",
    "start = time.time()\n",
    "\n",
    "param_rf = {\n",
    "    'max_depth': [8,10],\n",
    "    'min_samples_leaf': range(50, 200, 50),\n",
    "    'min_samples_split':range(50, 200, 50),\n",
    "    'n_estimators': [100,150,200,300], \n",
    "    'max_features': [5, 10,15,20]\n",
    "    \n",
    "}\n",
    "\n",
    "rf = RandomForestClassifier(n_jobs=-1,class_weight ='balanced',random_state=42)\n",
    "\n",
    "folds= StratifiedKFold(n_splits = 3, shuffle = True, random_state = 42)\n",
    "# Instantiate \n",
    "grid_rf = RandomizedSearchCV(estimator = rf, param_distributions = param_rf, \n",
    "                          cv = folds, n_jobs = -1,verbose = 1,scoring = 'roc_auc')\n",
    "\n",
    "\n",
    "#fitting\n",
    "grid_rf.fit(X_train_us,y_train_us)"
   ]
  },
  {
   "cell_type": "code",
   "execution_count": 140,
   "id": "8f5455c2",
   "metadata": {},
   "outputs": [
    {
     "data": {
      "text/plain": [
       "{'n_estimators': 150,\n",
       " 'min_samples_split': 100,\n",
       " 'min_samples_leaf': 150,\n",
       " 'max_features': 10,\n",
       " 'max_depth': 8}"
      ]
     },
     "execution_count": 140,
     "metadata": {},
     "output_type": "execute_result"
    }
   ],
   "source": [
    "#best params\n",
    "\n",
    "grid_rf.best_params_"
   ]
  },
  {
   "cell_type": "code",
   "execution_count": 147,
   "id": "4cb82ea6",
   "metadata": {},
   "outputs": [
    {
     "name": "stdout",
     "output_type": "stream",
     "text": [
      "Train auc score :  0.7931474831861234\n",
      "Test auc score :  0.7898029139599125\n",
      "              precision    recall  f1-score   support\n",
      "\n",
      "           0       1.00      0.58      0.74     21097\n",
      "           1       0.76      1.00      0.86     27700\n",
      "\n",
      "    accuracy                           0.82     48797\n",
      "   macro avg       0.88      0.79      0.80     48797\n",
      "weighted avg       0.86      0.82      0.81     48797\n",
      "\n"
     ]
    }
   ],
   "source": [
    "#using best params\n",
    "\n",
    "forest_cv = RandomForestClassifier(n_estimators=150,\n",
    "                                   min_samples_split=100, min_samples_leaf=150,\n",
    "                                   max_features=10,max_depth=8,\n",
    "                                   n_jobs=-1,class_weight ='balanced',random_state=42)\n",
    "\n",
    "forest_cv.fit(X_train_us,y_train_us)\n",
    "\n",
    "\n",
    "#prediction\n",
    "\n",
    "pred_rf_train_cv= forest_cv.predict_proba(X_train_us)[:,1]\n",
    "pred_rf_test_cv = forest_cv.predict_proba(X_test)[:,1]\n",
    "\n",
    "y_pred = forest_cv.predict(X_test)\n",
    "\n",
    "end = time.time()\n",
    "\n",
    "print ( 'Train auc score : ', roc_auc_score(y_train_us,pred_rf_train_cv))\n",
    "print ( 'Test auc score : ', roc_auc_score(y_test,pred_rf_test_cv))\n",
    "\n",
    "print(classification_report(y_test,y_pred))\n",
    "\n",
    "rf_ex_time = end - start\n",
    "rf_us_acc_test_cv = accuracy_score(y_test, y_pred)\n",
    "forest_us_auc_test_cv = roc_auc_score(y_test,pred_rf_test_cv)\n",
    "precision_rf_us_cv = precision_score(y_test,y_pred)\n",
    "recall_rf_us_cv = recall_score(y_test,y_pred)\n",
    "f1_rf_us_cv = f1_score(y_test,y_pred)"
   ]
  },
  {
   "cell_type": "code",
   "execution_count": 148,
   "id": "b62982ca",
   "metadata": {},
   "outputs": [
    {
     "data": {
      "image/png": "[encoded data removed]",
      "text/plain": [
       "<Figure size 504x360 with 1 Axes>"
      ]
     },
     "metadata": {
      "needs_background": "light"
     },
     "output_type": "display_data"
    }
   ],
   "source": [
    "# plotting ROC curve on test data \n",
    "fpr, tpr, thresholds = roc_curve(y_test, pred_rf_test_cv)\n",
    "plt.figure(figsize =(7,5))\n",
    "plt.plot(fpr, tpr, label='Random Forest (area = %0.5f)' % forest_us_auc_test_cv )\n",
    "plt.plot([0, 1], [0, 1])\n",
    "plt.xlim([0.0, 1.0])\n",
    "plt.ylim([0.0, 1.0])\n",
    "plt.xlabel('False Positive Rate')\n",
    "plt.ylabel('True Positive Rate')\n",
    "plt.title('ROC Curve')\n",
    "plt.legend(loc=\"lower right\")\n",
    "plt.show()"
   ]
  },
  {
   "cell_type": "code",
   "execution_count": 149,
   "id": "d9de3404",
   "metadata": {},
   "outputs": [
    {
     "name": "stdout",
     "output_type": "stream",
     "text": [
      "Fitting 3 folds for each of 10 candidates, totalling 30 fits\n"
     ]
    },
    {
     "data": {
      "text/plain": [
       "RandomizedSearchCV(cv=StratifiedKFold(n_splits=3, random_state=42, shuffle=True),\n",
       "                   estimator=XGBClassifier(base_score=None, booster='gbtree',\n",
       "                                           callbacks=None,\n",
       "                                           colsample_bylevel=None,\n",
       "                                           colsample_bynode=None,\n",
       "                                           colsample_bytree=None,\n",
       "                                           early_stopping_rounds=None,\n",
       "                                           enable_categorical=False,\n",
       "                                           eval_metric=None, gamma=None,\n",
       "                                           gpu_id=None, grow_policy=None,\n",
       "                                           importance_type=None,\n",
       "                                           in...\n",
       "                                           max_leaves=None,\n",
       "                                           min_child_weight=None, missing=nan,\n",
       "                                           monotone_constraints=None,\n",
       "                                           n_estimators=100, n_jobs=-1,\n",
       "                                           num_parallel_tree=None,\n",
       "                                           predictor=None, random_state=42,\n",
       "                                           reg_alpha=1, reg_lambda=0, ...),\n",
       "                   n_jobs=-1,\n",
       "                   param_distributions={'learning_rate': [0.1, 0.3, 0.5, 0.75],\n",
       "                                        'max_depth': [4, 6, 8],\n",
       "                                        'n_estimators': [100, 150, 200],\n",
       "                                        'subsample': [0.3, 0.5, 0.75]},\n",
       "                   scoring='roc_auc', verbose=1)"
      ]
     },
     "execution_count": 149,
     "metadata": {},
     "output_type": "execute_result"
    }
   ],
   "source": [
    "# Hypertunning the xgb\n",
    "\n",
    "start = time.time()\n",
    "\n",
    "param_xgb = {\n",
    "    'max_depth': [4,6,8],\n",
    "    'learning_rate': [0.1,0.3,0.5,0.75],\n",
    "    'n_estimators': [100,150,200],\n",
    "    'subsample':[0.3,0.50,.75]\n",
    "    \n",
    "}\n",
    "\n",
    "xgb= XGBClassifier(booster='gbtree',\n",
    "       n_jobs=-1, objective='binary:logistic', random_state=42,\n",
    "       reg_alpha=1, reg_lambda=0)\n",
    "\n",
    "folds= StratifiedKFold(n_splits = 3, shuffle = True, random_state = 42)\n",
    "# Instantiate\n",
    "grid_xgb = RandomizedSearchCV(estimator = xgb, param_distributions = param_xgb, \n",
    "                          cv = folds, n_jobs = -1,verbose = 1,scoring = 'roc_auc')\n",
    "\n",
    "grid_xgb.fit(X_train_us,y_train_us)"
   ]
  },
  {
   "cell_type": "code",
   "execution_count": 150,
   "id": "6fb12a4c",
   "metadata": {},
   "outputs": [
    {
     "data": {
      "text/plain": [
       "{'subsample': 0.5, 'n_estimators': 100, 'max_depth': 4, 'learning_rate': 0.75}"
      ]
     },
     "execution_count": 150,
     "metadata": {},
     "output_type": "execute_result"
    }
   ],
   "source": [
    "#best parameters\n",
    "\n",
    "grid_xgb.best_params_"
   ]
  },
  {
   "cell_type": "code",
   "execution_count": 152,
   "id": "f775985a",
   "metadata": {},
   "outputs": [
    {
     "name": "stdout",
     "output_type": "stream",
     "text": [
      "Train auc score :  0.793148668076392\n",
      "Test auc score :  0.7906307302576427\n",
      "              precision    recall  f1-score   support\n",
      "\n",
      "           0       1.00      0.58      0.74     21097\n",
      "           1       0.76      1.00      0.86     27700\n",
      "\n",
      "    accuracy                           0.82     48797\n",
      "   macro avg       0.88      0.79      0.80     48797\n",
      "weighted avg       0.86      0.82      0.81     48797\n",
      "\n"
     ]
    }
   ],
   "source": [
    "xgb= XGBClassifier(booster='gbtree',subsample=0.5,\n",
    "                   n_estimators = 100,\n",
    "                   max_depth = 4,\n",
    "                   learning_rate=0.75,\n",
    "                   n_jobs=-1,objective='binary:logistic', random_state=42,\n",
    "                   reg_alpha=0, reg_lambda=1)   \n",
    "\n",
    "xgb.fit(X_train_us,y_train_us)\n",
    "#prediction \n",
    "\n",
    "pred_xgb_train_cv= xgb.predict_proba(X_train_us)[:,1]\n",
    "pred_xgb_test_cv = xgb.predict_proba(X_test)[:,1]\n",
    "\n",
    "y_pred = xgb.predict(X_test)\n",
    "\n",
    "end = time.time()\n",
    "\n",
    "print ( 'Train auc score : ', roc_auc_score(y_train_us,pred_xgb_train_cv))\n",
    "print ( 'Test auc score : ', roc_auc_score(y_test,pred_xgb_test_cv))\n",
    "print(classification_report(y_test,y_pred))\n",
    "\n",
    "xgb_ex_time = end - start\n",
    "xgb_us_acc_test_cv = accuracy_score(y_test, y_pred)\n",
    "xgb_us_auc_test_cv = roc_auc_score(y_test,pred_xgb_test_cv)\n",
    "precision_xgb_us_cv = precision_score(y_test,y_pred)\n",
    "recall_xgb_us_cv = recall_score(y_test,y_pred)\n",
    "f1_xgb_us_cv = f1_score(y_test,y_pred)"
   ]
  },
  {
   "cell_type": "code",
   "execution_count": 153,
   "id": "f9938147",
   "metadata": {},
   "outputs": [
    {
     "data": {
      "text/html": [
       "<div>\n",
       "<style scoped>\n",
       "    .dataframe tbody tr th:only-of-type {\n",
       "        vertical-align: middle;\n",
       "    }\n",
       "\n",
       "    .dataframe tbody tr th {\n",
       "        vertical-align: top;\n",
       "    }\n",
       "\n",
       "    .dataframe thead th {\n",
       "        text-align: right;\n",
       "    }\n",
       "</style>\n",
       "<table border=\"1\" class=\"dataframe\">\n",
       "  <thead>\n",
       "    <tr style=\"text-align: right;\">\n",
       "      <th></th>\n",
       "      <th>exec_times</th>\n",
       "      <th>accuracy</th>\n",
       "      <th>auc_score</th>\n",
       "      <th>recall</th>\n",
       "      <th>precision</th>\n",
       "      <th>f1_score</th>\n",
       "    </tr>\n",
       "  </thead>\n",
       "  <tbody>\n",
       "    <tr>\n",
       "      <th>Logistic Regression</th>\n",
       "      <td>10.902372</td>\n",
       "      <td>0.816157</td>\n",
       "      <td>0.792958</td>\n",
       "      <td>0.990036</td>\n",
       "      <td>0.759268</td>\n",
       "      <td>0.859431</td>\n",
       "    </tr>\n",
       "    <tr>\n",
       "      <th>Random Forest</th>\n",
       "      <td>143.165427</td>\n",
       "      <td>0.819210</td>\n",
       "      <td>0.789803</td>\n",
       "      <td>0.998736</td>\n",
       "      <td>0.758943</td>\n",
       "      <td>0.862483</td>\n",
       "    </tr>\n",
       "    <tr>\n",
       "      <th>XGBoost</th>\n",
       "      <td>152.121190</td>\n",
       "      <td>0.820091</td>\n",
       "      <td>0.790631</td>\n",
       "      <td>0.999892</td>\n",
       "      <td>0.759384</td>\n",
       "      <td>0.863198</td>\n",
       "    </tr>\n",
       "  </tbody>\n",
       "</table>\n",
       "</div>"
      ],
      "text/plain": [
       "                     exec_times  accuracy  auc_score    recall  precision  \\\n",
       "Logistic Regression   10.902372  0.816157   0.792958  0.990036   0.759268   \n",
       "Random Forest        143.165427  0.819210   0.789803  0.998736   0.758943   \n",
       "XGBoost              152.121190  0.820091   0.790631  0.999892   0.759384   \n",
       "\n",
       "                     f1_score  \n",
       "Logistic Regression  0.859431  \n",
       "Random Forest        0.862483  \n",
       "XGBoost              0.863198  "
      ]
     },
     "execution_count": 153,
     "metadata": {},
     "output_type": "execute_result"
    }
   ],
   "source": [
    "#SCORE after RandomUnderSampling\n",
    "\n",
    "execution_times_all = [log_ex_time, rf_ex_time, xgb_ex_time]\n",
    "accuracy_all = [log_us_acc_test_cv, rf_us_acc_test_cv, xgb_us_acc_test_cv]\n",
    "auc_score_all =[log_us_auc_test_cv, forest_us_auc_test_cv, xgb_us_auc_test_cv]\n",
    "recall_all = [recall_log_us_cv, recall_rf_us_cv, recall_xgb_us_cv]\n",
    "precision_all = [precision_log_us_cv, precision_rf_us_cv, precision_xgb_us_cv]\n",
    "f1_all =[f1_log_us_cv, f1_rf_us_cv, f1_xgb_us_cv]\n",
    "\n",
    "us_cv = pd.DataFrame({'exec_times': execution_times_all,\n",
    "                      'accuracy': accuracy_all,\n",
    "                      'auc_score': auc_score_all,\n",
    "                      'recall':recall_all,\n",
    "                      'precision':precision_all,\\\n",
    "                      'f1_score':f1_all},\n",
    "                     index =['Logistic Regression','Random Forest','XGBoost'])\n",
    "us_cv"
   ]
  },
  {
   "cell_type": "code",
   "execution_count": null,
   "id": "c5048c75",
   "metadata": {},
   "outputs": [],
   "source": []
  }
 ],
 "metadata": {
  "kernelspec": {
   "display_name": "Python 3",
   "language": "python",
   "name": "python3"
  },
  "language_info": {
   "codemirror_mode": {
    "name": "ipython",
    "version": 3
   },
   "file_extension": ".py",
   "mimetype": "text/x-python",
   "name": "python",
   "nbconvert_exporter": "python",
   "pygments_lexer": "ipython3",
   "version": "3.8.8"
  }
 },
 "nbformat": 4,
 "nbformat_minor": 5
}
